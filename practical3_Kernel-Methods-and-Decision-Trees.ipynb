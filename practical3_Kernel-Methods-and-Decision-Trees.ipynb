{
 "cells": [
  {
   "cell_type": "markdown",
   "metadata": {
    "colab_type": "text",
    "id": "bnVw9z2NmnaL"
   },
   "source": [
    "# Practical 3: Kernel methods and decision trees\n",
    "\n",
    "Note: Please use sklearn or other ML libraries only where explicitly asked to do so."
   ]
  },
  {
   "cell_type": "code",
   "execution_count": 1,
   "metadata": {
    "colab": {},
    "colab_type": "code",
    "execution": {
     "iopub.execute_input": "2020-06-02T22:50:14.701Z",
     "iopub.status.busy": "2020-06-02T22:50:14.692Z",
     "iopub.status.idle": "2020-06-02T22:50:14.716Z",
     "shell.execute_reply": "2020-06-02T22:50:14.726Z"
    },
    "id": "O_MBJs45mnaP"
   },
   "outputs": [],
   "source": [
    "import numpy as np\n",
    "from matplotlib import pyplot as plt\n",
    "import cvxopt  # needed later on for SVM"
   ]
  },
  {
   "cell_type": "code",
   "execution_count": 2,
   "metadata": {
    "colab": {},
    "colab_type": "code",
    "id": "LkdvH1tLmnad"
   },
   "outputs": [],
   "source": [
    "#conda install -c conda-forge cvxopt"
   ]
  },
  {
   "cell_type": "markdown",
   "metadata": {
    "colab_type": "text",
    "id": "tzc-iy76mnat",
    "nteract": {
     "transient": {
      "deleting": false
     }
    }
   },
   "source": [
    "# Task 0: Preliminaries\n",
    "\n",
    "This time we will work with a synthetic 2d dataset to facilitate visualization and be able to focus on the algorithms rather than spending energy to understand the dataset. The dataset consists of two classes and two predictors. Below we load the dataset and plot it."
   ]
  },
  {
   "cell_type": "code",
   "execution_count": 3,
   "metadata": {
    "colab": {
     "base_uri": "https://localhost:8080/",
     "height": 281
    },
    "colab_type": "code",
    "execution": {
     "iopub.execute_input": "2020-06-02T22:41:10.408Z",
     "iopub.status.busy": "2020-06-02T22:41:10.392Z",
     "iopub.status.idle": "2020-06-02T22:41:11.004Z",
     "shell.execute_reply": "2020-06-02T22:41:11.126Z"
    },
    "id": "3fq3kyNKmnaw",
    "jupyter": {
     "outputs_hidden": false,
     "source_hidden": false
    },
    "nteract": {
     "transient": {
      "deleting": false
     }
    },
    "outputId": "01a2f738-2d45-4da1-ccc4-e429fdf2ce9b"
   },
   "outputs": [
    {
     "data": {
      "image/png": "[encoded data removed]",
      "text/plain": [
       "<Figure size 432x288 with 1 Axes>"
      ]
     },
     "metadata": {
      "needs_background": "light"
     },
     "output_type": "display_data"
    }
   ],
   "source": [
    "X_2d, t_2d = np.load('nonlin_2d_data.npy')[:,:2], np.load('nonlin_2d_data.npy')[:, 2]\n",
    "\n",
    "plt.scatter(X_2d[:,0], X_2d[:, 1], c=t_2d)\n",
    "plt.xlabel('$x_1$')\n",
    "plt.ylabel('$x_2$')\n",
    "plt.axis('square');"
   ]
  },
  {
   "cell_type": "markdown",
   "metadata": {
    "colab_type": "text",
    "id": "qGQ-PeDPmna-"
   },
   "source": [
    "#### Task 0.1\n",
    "\n",
    "Apply logistic regression to the provided data and investigate how it performs. You're welcome to use sklearn for this task."
   ]
  },
  {
   "cell_type": "code",
   "execution_count": 4,
   "metadata": {
    "colab": {},
    "colab_type": "code",
    "execution": {
     "iopub.execute_input": "2020-06-02T22:47:20.986Z",
     "iopub.status.busy": "2020-06-02T22:47:20.979Z",
     "iopub.status.idle": "2020-06-02T22:47:20.999Z",
     "shell.execute_reply": "2020-06-02T22:47:21.010Z"
    },
    "id": "9m0WUg_Jmna_"
   },
   "outputs": [],
   "source": [
    "# from Practical 2\n",
    "def split_data(X, y, frac=0.3, max_samples=None, seed=4711):\n",
    "\n",
    "    if seed is not None:\n",
    "        np.random.seed(seed)\n",
    "\n",
    "    indices = np.random.permutation(len(X))\n",
    "    indices = indices[:max_samples]\n",
    "    indices_test, indices_train = indices[:int(len(indices)*frac)], indices[int(len(indices)*frac):]\n",
    "\n",
    "    assert (len(set(indices))) == len(indices)\n",
    "    assert len(set(indices_test).intersection(indices_train)) == 0\n",
    "    \n",
    "    X_train, X_test = X[indices_train], X[indices_test]\n",
    "    y_train, y_test = y[indices_train], y[indices_test]\n",
    "    \n",
    "    return X_train, X_test, y_train, y_test"
   ]
  },
  {
   "cell_type": "code",
   "execution_count": 5,
   "metadata": {
    "colab": {
     "base_uri": "https://localhost:8080/",
     "height": 34
    },
    "colab_type": "code",
    "id": "N0a7pOkEmnbJ",
    "outputId": "baea4e60-a6e6-4db5-859a-7eef3fd7e68b"
   },
   "outputs": [
    {
     "data": {
      "text/plain": [
       "(175, 2)"
      ]
     },
     "execution_count": 5,
     "metadata": {},
     "output_type": "execute_result"
    }
   ],
   "source": [
    "X_train,X_test,y_train,y_test=split_data(X_2d,t_2d)\n",
    "X_train.shape"
   ]
  },
  {
   "cell_type": "code",
   "execution_count": 6,
   "metadata": {
    "colab": {},
    "colab_type": "code",
    "id": "t66Zy9eImnbT"
   },
   "outputs": [],
   "source": [
    "from sklearn.linear_model import LogisticRegression"
   ]
  },
  {
   "cell_type": "code",
   "execution_count": 7,
   "metadata": {
    "colab": {
     "base_uri": "https://localhost:8080/",
     "height": 34
    },
    "colab_type": "code",
    "id": "Ur2ZDlo3mnbc",
    "outputId": "37395aef-f1a6-4e73-f615-014d44e29b7a"
   },
   "outputs": [
    {
     "data": {
      "text/plain": [
       "0.6533333333333333"
      ]
     },
     "execution_count": 7,
     "metadata": {},
     "output_type": "execute_result"
    }
   ],
   "source": [
    "clf = LogisticRegression().fit(X_train, y_train)\n",
    "clf.score(X_test, y_test)"
   ]
  },
  {
   "cell_type": "markdown",
   "metadata": {
    "colab_type": "text",
    "id": "eJ32zm3rmnbk"
   },
   "source": [
    "# Task 1: Kernel Discriminant Analysis\n",
    "\n",
    "We will be implementing Kernel Discriminant Analysis, a nonlinear extension to LDA based on the kernel trick, following the original paper by Mika, Rätsch, Weston, Schölkopf and Müller (PDF on StudIP).\n",
    "\n",
    "The goal of Kernel Discriminant Analysis is find a vector of $\\alpha$'s that maximizes\n",
    "$$ J(\\alpha) = \\frac{\\alpha^T M \\alpha}{\\alpha^T N \\alpha} $$\n",
    "where \n",
    "$$(M_i)_j = \\frac{1}{l_i} \\sum_{k=1}^{l_i} k(x_j, x_k^i)$$ and\n",
    "$$N= \\sum_{j=1,2} K_j (I - 1_{l_j}) K_j^T$$\n",
    "Here, the number of samples for class $j$ is denoted by $l_j$. In the definition of $N$, $(K_{j})_{n,m} = k(x_n, x_m^j)$, $I$ is the identity matrix and $1_{l_j}$ is a matrix with each entry equal to $1/l_j$. $M$ has shape $2 \\times (l_0 + l_1)$, $N$ has shape $(l_0 + l_1) \\times (l_0 + l_1)$.\n",
    "\n",
    "We obtain the optimal solution by $\\alpha = N^{-1}(M_1 - M_0)$. Note that you may have to regularize $N^{-1}$ for numerical stability (see paper or Wikipedia).\n",
    "\n",
    "1. Implement a function `kda(X, t, kernel)` that carries out Kernel Discriminant Analysis on the data $X,t$ and returns a vector `alpha`.\n",
    "2. Implement a function `def predict(alpha, x)`\n",
    "3. Visualize results given a linear kernel and a radial basis function kernel.\n",
    "\n",
    "Use the following snippet as a starting point."
   ]
  },
  {
   "cell_type": "code",
   "execution_count": 8,
   "metadata": {
    "colab": {},
    "colab_type": "code",
    "id": "03ya69bamnbl"
   },
   "outputs": [],
   "source": [
    " X_train, X_test, y_train, y_test = split_data(X_2d, t_2d, 0.3,None,4711)"
   ]
  },
  {
   "cell_type": "code",
   "execution_count": 9,
   "metadata": {
    "colab": {},
    "colab_type": "code",
    "id": "kD38g87Tmnbv"
   },
   "outputs": [],
   "source": [
    "def linear_kernel(x_n, x_m):\n",
    "    return x_n.dot(x_m)\n",
    "\n",
    "def rbf_kernel(x_n, x_m, gamma=5, **kwargs):\n",
    "    return np.exp(-np.power(x_n - x_m, 2).sum()/gamma)"
   ]
  },
  {
   "cell_type": "code",
   "execution_count": 10,
   "metadata": {
    "colab": {},
    "colab_type": "code",
    "id": "Jgb8FP4Mmnb4"
   },
   "outputs": [],
   "source": [
    "def kernel_transform(X,kernel):\n",
    "    if kernel == 'Linear':\n",
    "        kfunc = linear_kernel\n",
    "        \n",
    "    elif kernel == 'rbf':\n",
    "        kfunc = rbf_kernel\n",
    "    \n",
    "    \n",
    "    n_samples, n_features = X.shape\n",
    "    n_samples = n_samples\n",
    "    n_features = n_features\n",
    "    \n",
    "    K = np.zeros((n_samples,n_samples))\n",
    "    \n",
    "    for i in range(n_samples):\n",
    "        for j in range(n_samples):\n",
    "            K[i,j] = kfunc(X[i],X[j])\n",
    "            \n",
    "    return K   "
   ]
  },
  {
   "cell_type": "code",
   "execution_count": 11,
   "metadata": {
    "colab": {
     "base_uri": "https://localhost:8080/",
     "height": 34
    },
    "colab_type": "code",
    "id": "lx2mNixwmncA",
    "outputId": "1d0781c9-8fb6-4deb-e066-9fa99ef54970"
   },
   "outputs": [
    {
     "data": {
      "text/plain": [
       "(175, 175)"
      ]
     },
     "execution_count": 11,
     "metadata": {},
     "output_type": "execute_result"
    }
   ],
   "source": [
    "K_mat_rbf= kernel_transform(X_train,'rbf')\n",
    "np.shape(K_mat_rbf)"
   ]
  },
  {
   "cell_type": "code",
   "execution_count": 12,
   "metadata": {
    "colab": {
     "base_uri": "https://localhost:8080/",
     "height": 34
    },
    "colab_type": "code",
    "id": "kvn6rBZTmncI",
    "outputId": "6ccc0810-10d5-4f50-b6fe-15725590b26a"
   },
   "outputs": [
    {
     "data": {
      "text/plain": [
       "(175, 175)"
      ]
     },
     "execution_count": 12,
     "metadata": {},
     "output_type": "execute_result"
    }
   ],
   "source": [
    "K_mat_linear= kernel_transform(X_train,'Linear')\n",
    "np.shape(K_mat_linear)"
   ]
  },
  {
   "cell_type": "code",
   "execution_count": 13,
   "metadata": {
    "colab": {},
    "colab_type": "code",
    "id": "G1t1UvpLmncR"
   },
   "outputs": [],
   "source": [
    "# Calculate alpha\n",
    "def calculate_alpha(X,t,K_mat):\n",
    "\n",
    "    X_split = X[(t==0)], X[(t==1)]\n",
    "\n",
    "    n = X.shape[0]\n",
    "\n",
    "    idx1 = np.where(t == 1)[0]\n",
    "    idx2 = np.where(t == 0)[0]\n",
    "\n",
    "    n1 = idx1.shape[0]\n",
    "    n2 = idx2.shape[0]\n",
    "   \n",
    "    K1, K2 = K_mat[:,idx1], K_mat[:,idx2]\n",
    "    \n",
    "   # print(K1)\n",
    "\n",
    "    N1 = np.dot(np.dot(K1, np.eye(n1)-(1/float(n1))),K1.T)\n",
    "    N2 = np.dot(np.dot(K2, np.eye(n2)-(1/float(n2))),K2.T)\n",
    "    \n",
    "    #print(N2)\n",
    "\n",
    "    #Calculate N \n",
    "\n",
    "    N = N1 + N2+np.diag(np.repeat(0.001,n))\n",
    "    Ni = np.linalg.inv(N)\n",
    "\n",
    "    m1 = np.sum(K1,axis = 1)/ float(n1)\n",
    "    m2 = np.sum(K2,axis = 1)/ float(n2)\n",
    "    d = m2-m1\n",
    "    \n",
    "    #print(np.shape(d))\n",
    "\n",
    "    # Calculate M\n",
    "    M = np.dot(d.reshape(-1,1),d.reshape(1,-1))\n",
    "   \n",
    "    #alpha\n",
    "\n",
    "    alpha = np.linalg.solve(Ni,d)\n",
    "   # alpha2 = np.dot(Ni,d)\n",
    "    #print(alpha)\n",
    "    #print(alpha2)\n",
    "\n",
    "    #b = np.dot(alpha,(n1*m1 +n2*m2)/float(n))\n",
    "    \n",
    "    return alpha"
   ]
  },
  {
   "cell_type": "code",
   "execution_count": 14,
   "metadata": {
    "colab": {
     "base_uri": "https://localhost:8080/",
     "height": 799
    },
    "colab_type": "code",
    "id": "UPBIuCoimncX",
    "outputId": "0208241b-a351-440e-f4b2-5fbdda662a80",
    "scrolled": true
   },
   "outputs": [
    {
     "name": "stdout",
     "output_type": "stream",
     "text": [
      "(175,)\n"
     ]
    },
    {
     "data": {
      "text/plain": [
       "array([  40.06921496,  136.64145944,  148.4831706 , -104.84808826,\n",
       "        126.67694906,   79.36537899,  172.39257821,   88.89704829,\n",
       "         86.41264834,   69.25967958,  157.06906921,  -61.82240371,\n",
       "       -103.161264  ,  138.85529226,  169.20551294,   55.02855021,\n",
       "        149.22252321,  -91.55382512,  137.22893647,   37.44030808,\n",
       "         65.27793157,  150.9672669 ,   86.45345889,   66.15340974,\n",
       "         59.68644679,  -61.80214886,  156.80167118, -102.94384095,\n",
       "        -71.34687205,   79.93702219,  144.58608321,  -59.43999162,\n",
       "         34.46060881,   72.05810731,  141.70017697,  143.99466914,\n",
       "         80.8112086 ,   20.47489358,   61.89470696,  -65.85891169,\n",
       "        155.26506898, -102.72674137,   14.35611808, -102.79340412,\n",
       "        139.48833512,  115.83341167,  -93.5094257 ,  133.91356303,\n",
       "        -64.07966446,   30.84726751,  151.56547689,  -98.99878881,\n",
       "        115.19396366,  129.53957699, -102.03319191,  162.06780868,\n",
       "         55.59045194,  108.22887911, -100.13927201,  139.61822481,\n",
       "        139.27699683, -105.64124892,   48.99217862,  136.92862848,\n",
       "        -64.76527103,   81.44429142,   78.44591191,  121.94278047,\n",
       "        -96.24463533,  149.86031493,   92.13241898,  102.91802286,\n",
       "         79.36383093,   66.64998204,   35.32287252,   83.22327119,\n",
       "         27.76176699,  -53.46079982,   87.62709869,  156.36237106,\n",
       "        -87.25180124,  149.85919176,  125.47091535,   99.51957043,\n",
       "        147.60019711,  131.47461685,  -79.34435725,  116.63269083,\n",
       "        145.07048523,  118.0601147 ,   25.54554218,  128.61525   ,\n",
       "        -65.90506078, -102.34535837,  140.03745715,   27.66375043,\n",
       "         24.23457639,  109.69905348,   97.10347775,  -71.21801872,\n",
       "         33.11988741,   35.73079177,   83.36680703,   61.09186393,\n",
       "        -12.35124543,  104.15605952,  -30.30006792,  -82.94551296,\n",
       "         75.95165168,   78.69470412,  148.19005903,  129.24169864,\n",
       "        163.1721322 ,   40.35283946,  129.64408611,  135.86049683,\n",
       "        161.06986185, -102.45420511,   20.67514142,  125.0851049 ,\n",
       "        116.74028367,  -92.91700818,  172.1968141 ,  130.73763432,\n",
       "        171.70957693,   93.09264648,  158.82399259,   90.6515364 ,\n",
       "         16.91772409,  -85.10109344,  146.29166828,  139.96078417,\n",
       "        116.56329927,  160.50069675,   27.57498826,  151.83972849,\n",
       "         -7.86347807,   40.55073748,  -76.0547407 ,  138.70034436,\n",
       "        148.58112245,  113.60846496, -102.80017673,   98.34143608,\n",
       "        138.74429306,   40.84311762,  157.69360347,  -90.16845417,\n",
       "        163.0671334 ,  150.39212704,  -77.83765924,   71.81550865,\n",
       "       -103.89966463,   80.63425123, -102.69278989,   92.1433282 ,\n",
       "        123.46384504,   81.22699243,   67.11374219,   47.47415287,\n",
       "        143.31944685,   34.18481855,   79.46824361,  -48.52587325,\n",
       "        158.92129916,  -43.52610455,  -98.73647783,   83.73718713,\n",
       "        -92.80610443,  106.60252234,   74.31884041,   99.45836378,\n",
       "        110.02962835,  146.83832989,  165.1586306 ])"
      ]
     },
     "execution_count": 14,
     "metadata": {},
     "output_type": "execute_result"
    }
   ],
   "source": [
    "alpha_rbf = calculate_alpha(X_train,y_train,K_mat_rbf)\n",
    "print(np.shape(alpha_rbf))\n",
    "alpha_rbf"
   ]
  },
  {
   "cell_type": "code",
   "execution_count": 15,
   "metadata": {
    "colab": {
     "base_uri": "https://localhost:8080/",
     "height": 799
    },
    "colab_type": "code",
    "id": "cgAAeaNWmncf",
    "outputId": "0bf81a68-46ba-4a1f-b770-58248878cba9",
    "scrolled": false
   },
   "outputs": [
    {
     "name": "stdout",
     "output_type": "stream",
     "text": [
      "(175,)\n"
     ]
    },
    {
     "data": {
      "text/plain": [
       "array([-75055.05706403,  56143.48163674,  52694.00221662,  39652.51024092,\n",
       "        52697.5680241 , -42847.59896947,  43701.94324372,  86672.12286028,\n",
       "        57170.51995855,  44395.92331817,  69606.13006273, 187877.79438153,\n",
       "        28868.50118013,  79278.8497274 ,  46152.39651851, -49817.73527571,\n",
       "        80658.79179   ,  29293.68276353,  56909.69197346,  90210.12989282,\n",
       "       -70574.4239759 ,  17483.97341849, -50622.88308292, -64837.75595356,\n",
       "       102867.37377186,  26128.05870221,  41457.83781956, 237752.88517059,\n",
       "        22159.84413922,  90291.44595485,  57947.09496102,  18373.79325589,\n",
       "       141714.40960037,  89951.78244623,   -879.47097924,  13391.28444974,\n",
       "       -31788.88345459, -81064.59002297, -47989.39821807, 190372.45324291,\n",
       "        32529.95900863, 240249.50893015, -89917.99230264,  33691.86807491,\n",
       "        -1085.80622649,  83638.60205795,  27040.17921922,  -6229.46900512,\n",
       "       189264.96960757, 107349.77871075,  51649.83489348, 225468.776928  ,\n",
       "        66208.85113376,  96476.49206722,  33902.65355832,  50074.10153301,\n",
       "       -21623.52279743, -15094.6433706 ,  46132.50306578,  21560.52670291,\n",
       "        40512.41401138,  40449.87803192, 135410.25795775,  15849.53614207,\n",
       "       189649.85414779, -32999.38746955, -31482.67804537, -14612.66296932,\n",
       "       218666.60576654,  12690.66548078, -43084.05438869,  84998.46809643,\n",
       "       -34408.49148655, -33248.69230588, -66149.36111886, -56273.48861543,\n",
       "       144235.49655259, 183021.76889651,  69942.18341007,  13657.49481893,\n",
       "       207445.84804769,  25574.41524368,  11494.36477078, -26530.41578296,\n",
       "        51735.30147028,  30399.97091165,  28122.72390033,  -8095.5074896 ,\n",
       "        18885.92064099, -21460.7773819 , -78216.67606596,  64358.99383649,\n",
       "       190530.0837058 , 241701.7733279 ,  74931.88102237, -86417.26835994,\n",
       "       -83516.39637721, 107832.69305749,  80558.82004111, 194100.77184274,\n",
       "       -82059.78824059, 132935.33286516, -56811.24598894, -68061.39135063,\n",
       "       161549.97028342,  65523.22121994, 170803.07194483,  25330.04839438,\n",
       "       -35662.61528486, -30558.10502466,   6202.24220062, -11868.43426035,\n",
       "        54732.82359202, -66568.37412539,  73337.44221805,  59575.07290577,\n",
       "        19086.14351604, 246478.1056712 , -83494.24613459,  98610.71654519,\n",
       "        46724.1731905 ,  47750.06752547,  42853.95100243,  29579.46043063,\n",
       "        40974.04135663, -22784.70592437,  27600.20477229, -48252.42976085,\n",
       "       -89215.64216458,  33320.7078316 ,  58189.92759822,  10555.31049373,\n",
       "        64895.17239128,  22341.49335377, -11078.45222343,  72571.82758848,\n",
       "       160050.50896468, -73271.41927646, 197635.11532069,   8794.70264692,\n",
       "        20130.21815941,  37502.24215378, 243406.32251535,  31517.60980558,\n",
       "        -2304.99317547, 138965.92026325,  17297.34452365,  36502.71421683,\n",
       "        54707.36968166,  52886.91827034, 200316.0960902 , -36943.71516692,\n",
       "        30116.28332972, -58190.82106659, 242165.22434065,  89445.71408632,\n",
       "       100023.37661521, -59263.37953051, -42125.96622446, -74167.92213367,\n",
       "        13859.82295932,  94321.91071677, -35562.47324088, 179987.27001129,\n",
       "        65106.67994744, 177547.53249407,  25001.81387687, -45369.93777969,\n",
       "        32488.08172269,  -9700.40930596, 104654.21322745,  80991.39683626,\n",
       "        89673.78512288,  42119.62168249,  25052.58946757])"
      ]
     },
     "execution_count": 15,
     "metadata": {},
     "output_type": "execute_result"
    }
   ],
   "source": [
    "alpha_linear = calculate_alpha(X_train,y_train,K_mat_linear)\n",
    "print(np.shape(alpha_linear))\n",
    "alpha_linear"
   ]
  },
  {
   "cell_type": "code",
   "execution_count": 35,
   "metadata": {
    "colab": {},
    "colab_type": "code",
    "id": "LkeVkXgMmncs"
   },
   "outputs": [],
   "source": [
    "def predict(alpha,x):\n",
    "        \n",
    "    Y = []\n",
    "    temp = 0\n",
    "    for i in range(len(x)):\n",
    "        temp += alpha[i]*rbf_kernel(x[i],x)\n",
    "        Y.append(temp)\n",
    "    Y = np.array(Y)\n",
    "    \n",
    "    return Y"
   ]
  },
  {
   "cell_type": "code",
   "execution_count": 36,
   "metadata": {},
   "outputs": [
    {
     "data": {
      "text/plain": [
       "(175,)"
      ]
     },
     "execution_count": 36,
     "metadata": {},
     "output_type": "execute_result"
    }
   ],
   "source": [
    "Y_predict_rbf = predict(alpha_rbf,X_train)\n",
    "np.shape(Y_predict_rbf)\n",
    "#Y_predict_rbf"
   ]
  },
  {
   "cell_type": "code",
   "execution_count": 37,
   "metadata": {},
   "outputs": [
    {
     "data": {
      "text/plain": [
       "Text(0.5, 1.0, 'RBF kernel Predict')"
      ]
     },
     "execution_count": 37,
     "metadata": {},
     "output_type": "execute_result"
    },
    {
     "data": {
      "image/png": "[encoded data removed]",
      "text/plain": [
       "<Figure size 432x288 with 1 Axes>"
      ]
     },
     "metadata": {
      "needs_background": "light"
     },
     "output_type": "display_data"
    }
   ],
   "source": [
    "plt.scatter(X_train[:,0], X_train[:,1], c=Y_predict_rbf)\n",
    "plt.title('RBF kernel Predict')"
   ]
  },
  {
   "cell_type": "code",
   "execution_count": 30,
   "metadata": {},
   "outputs": [],
   "source": [
    "def predict(alpha,x):\n",
    "        \n",
    "    Y = []\n",
    "    temp = 0\n",
    "    for i in range(len(x)):\n",
    "        temp += alpha[i]*linear_kernel(x[i],x[i])\n",
    "        Y.append(temp)\n",
    "    Y = np.array(Y)\n",
    "    \n",
    "    return Y"
   ]
  },
  {
   "cell_type": "code",
   "execution_count": 31,
   "metadata": {},
   "outputs": [
    {
     "data": {
      "text/plain": [
       "(175,)"
      ]
     },
     "execution_count": 31,
     "metadata": {},
     "output_type": "execute_result"
    }
   ],
   "source": [
    "Y_predict_linear = predict(alpha_rbf,X_train)\n",
    "np.shape(Y_predict_linear)\n",
    "#Y_predict_linear"
   ]
  },
  {
   "cell_type": "code",
   "execution_count": 43,
   "metadata": {
    "colab": {
     "base_uri": "https://localhost:8080/",
     "height": 300
    },
    "colab_type": "code",
    "id": "Eg23U7qImndC",
    "outputId": "42a72b2d-fb41-42b8-ed16-29a6814fb4e9"
   },
   "outputs": [
    {
     "data": {
      "text/plain": [
       "Text(0.5, 1.0, 'Linear kernel Predict')"
      ]
     },
     "execution_count": 43,
     "metadata": {},
     "output_type": "execute_result"
    },
    {
     "data": {
      "image/png": "[encoded data removed]",
      "text/plain": [
       "<Figure size 432x288 with 1 Axes>"
      ]
     },
     "metadata": {
      "needs_background": "light"
     },
     "output_type": "display_data"
    }
   ],
   "source": [
    "plt.scatter(X_train[:,0], X_train[:,1], c=Y_predict_linear)\n",
    "plt.title('Linear kernel Predict')"
   ]
  },
  {
   "cell_type": "markdown",
   "metadata": {},
   "source": [
    "For Test Dataset:"
   ]
  },
  {
   "cell_type": "code",
   "execution_count": 45,
   "metadata": {},
   "outputs": [
    {
     "data": {
      "text/plain": [
       "(75, 75)"
      ]
     },
     "execution_count": 45,
     "metadata": {},
     "output_type": "execute_result"
    }
   ],
   "source": [
    "K_mat_rbf_test= kernel_transform(X_test,'rbf')\n",
    "np.shape(K_mat_rbf_test)"
   ]
  },
  {
   "cell_type": "code",
   "execution_count": 55,
   "metadata": {
    "scrolled": true
   },
   "outputs": [
    {
     "name": "stdout",
     "output_type": "stream",
     "text": [
      "(75,)\n"
     ]
    }
   ],
   "source": [
    "alpha_rbf_test = calculate_alpha(X_test,y_test,K_mat_rbf_test)\n",
    "print(np.shape(alpha_rbf_test))\n",
    "#alpha_rbf"
   ]
  },
  {
   "cell_type": "code",
   "execution_count": 62,
   "metadata": {},
   "outputs": [
    {
     "data": {
      "text/plain": [
       "1.040877738136734e-39"
      ]
     },
     "execution_count": 62,
     "metadata": {},
     "output_type": "execute_result"
    }
   ],
   "source": [
    "Y_predict_rbf_test = predict(alpha_rbf_test,X_test)\n",
    "np.shape(Y_predict_rbf_test)\n",
    "min(Y_predict_rbf_test)\n",
    "max(Y_predict_rbf_test)"
   ]
  },
  {
   "cell_type": "code",
   "execution_count": 65,
   "metadata": {},
   "outputs": [],
   "source": [
    "def Average(lst): \n",
    "    return sum(lst) / len(lst) "
   ]
  },
  {
   "cell_type": "code",
   "execution_count": 66,
   "metadata": {},
   "outputs": [
    {
     "data": {
      "text/plain": [
       "3.9868968144329766e-40"
      ]
     },
     "execution_count": 66,
     "metadata": {},
     "output_type": "execute_result"
    }
   ],
   "source": [
    "Average(Y_predict_rbf_test)"
   ]
  },
  {
   "cell_type": "code",
   "execution_count": 52,
   "metadata": {},
   "outputs": [
    {
     "data": {
      "text/plain": [
       "Text(0.5, 1.0, 'RBF kernel Predict')"
      ]
     },
     "execution_count": 52,
     "metadata": {},
     "output_type": "execute_result"
    },
    {
     "data": {
      "image/png": "[encoded data removed]",
      "text/plain": [
       "<Figure size 432x288 with 1 Axes>"
      ]
     },
     "metadata": {
      "needs_background": "light"
     },
     "output_type": "display_data"
    }
   ],
   "source": [
    "plt.scatter(X_test[:,0], X_test[:,1], c=Y_predict_rbf_test)\n",
    "plt.title('RBF kernel Predict For Test data')"
   ]
  },
  {
   "cell_type": "code",
   "execution_count": 53,
   "metadata": {},
   "outputs": [
    {
     "name": "stdout",
     "output_type": "stream",
     "text": [
      "(75,)\n"
     ]
    },
    {
     "data": {
      "text/plain": [
       "(75,)"
      ]
     },
     "execution_count": 53,
     "metadata": {},
     "output_type": "execute_result"
    }
   ],
   "source": [
    "K_mat_linear_test= kernel_transform(X_test,'Linear')\n",
    "np.shape(K_mat_linear_test)\n",
    "\n",
    "alpha_linear_test = calculate_alpha(X_test,y_test,K_mat_linear_test)\n",
    "print(np.shape(alpha_linear_test))\n",
    "#alpha_rbf\n",
    "\n",
    "Y_predict_linear_test = predict(alpha_linear_test,X_test)\n",
    "np.shape(Y_predict_linear_test)\n",
    "#Y_predict_rbf\n"
   ]
  },
  {
   "cell_type": "code",
   "execution_count": 54,
   "metadata": {},
   "outputs": [
    {
     "data": {
      "text/plain": [
       "Text(0.5, 1.0, 'Linear kernel Predict For Test data')"
      ]
     },
     "execution_count": 54,
     "metadata": {},
     "output_type": "execute_result"
    },
    {
     "data": {
      "image/png": "[encoded data removed]",
      "text/plain": [
       "<Figure size 432x288 with 1 Axes>"
      ]
     },
     "metadata": {
      "needs_background": "light"
     },
     "output_type": "display_data"
    }
   ],
   "source": [
    "plt.scatter(X_test[:,0], X_test[:,1], c=Y_predict_linear_test)\n",
    "plt.title('Linear kernel Predict For Test data')"
   ]
  },
  {
   "cell_type": "code",
   "execution_count": 84,
   "metadata": {},
   "outputs": [
    {
     "name": "stdout",
     "output_type": "stream",
     "text": [
      "0.3466666666666667\n"
     ]
    }
   ],
   "source": [
    "from sklearn import metrics\n",
    "print(metrics.accuracy_score(y_test,Y_predict_rbf_test.astype(int)))\n"
   ]
  },
  {
   "cell_type": "code",
   "execution_count": 81,
   "metadata": {},
   "outputs": [
    {
     "name": "stdout",
     "output_type": "stream",
     "text": [
      "0.4228571428571429\n"
     ]
    }
   ],
   "source": [
    "print(metrics.accuracy_score(y_train,Y_predict_rbf.astype(int)))"
   ]
  },
  {
   "cell_type": "markdown",
   "metadata": {
    "colab_type": "text",
    "id": "i_P91m0gmndJ"
   },
   "source": [
    "#### Task 1.2\n",
    "\n",
    "Which value would you use as a threshold to separate the classes? Use this threshold value to visualize the decision boundaries in a 2d grid (see example code below) and make predictions on the test set."
   ]
  },
  {
   "cell_type": "code",
   "execution_count": 87,
   "metadata": {
    "colab": {
     "base_uri": "https://localhost:8080/",
     "height": 0
    },
    "colab_type": "code",
    "execution": {
     "iopub.execute_input": "2020-06-02T22:41:15.114Z",
     "iopub.status.busy": "2020-06-02T22:41:15.097Z",
     "iopub.status.idle": "2020-06-02T22:41:15.634Z",
     "shell.execute_reply": "2020-06-02T22:41:15.555Z"
    },
    "id": "IopsU-nJmndK",
    "outputId": "c7613b5a-6e1b-436b-f6f9-12b50d0fd3cc"
   },
   "outputs": [
    {
     "data": {
      "image/png": "[encoded data removed]",
      "text/plain": [
       "<Figure size 432x288 with 1 Axes>"
      ]
     },
     "metadata": {
      "needs_background": "light"
     },
     "output_type": "display_data"
    }
   ],
   "source": [
    "threshold = Average(Y_predict_rbf_test)\n",
    "\n",
    "Y_predict_rbf_test_normalized = []\n",
    "\n",
    "for i in range(0,len(Y_predict_rbf_test)):\n",
    "    if Y_predict_rbf_test[i]<threshold:\n",
    "        Y_predict_rbf_test_normalized.append(0)\n",
    "    else:\n",
    "        Y_predict_rbf_test_normalized.append(1)\n",
    "\n",
    "\n",
    "\n",
    "def plot_decision_boundary(predict_fn):\n",
    "    ''' Plot decision boundary.\n",
    "    \n",
    "    predict_fn: function handle to a predict function that takes\n",
    "                as input a data point x and outputs the predicted\n",
    "                label t\n",
    "    '''\n",
    "    grid = np.meshgrid(np.linspace(-4, 4, 30), np.linspace(-4, 4, 30))\n",
    "    grid_x, grid_y = grid[0].flatten(), grid[1].flatten()\n",
    "    grid_t = np.array([\n",
    "        predict_fn([x, y]) for x, y, in zip(grid_x, grid_y)])\n",
    "    plt.scatter(grid_x, grid_y, c=grid_t, alpha=0.2)\n",
    "\n",
    "# The following example has the decision boundary at x[0] = 0.5\n",
    "predict_fn = lambda x: x[0] > threshold \n",
    "plot_decision_boundary(predict_fn)\n",
    "\n",
    " \n",
    "plt.title('RBF Kernel LDA')\n",
    "plt.scatter( X_test[:,0], X_test[:,1], c=Y_predict_rbf_test)\n",
    "plt.axvline(threshold, color='r', linewidth=1)\n",
    "#plot_decision_boundary(Y_predict_rbf_test)\n",
    "plt.show()\n"
   ]
  },
  {
   "cell_type": "markdown",
   "metadata": {
    "colab_type": "text",
    "id": "b-bM0ocMmndS"
   },
   "source": [
    "# Task 2: Support Vector Machines\n",
    "\n",
    "Next, you will implement a Support Vector Machine (SVM). For solving the quadratic program, we provide a simple interface to the cvxopt library below."
   ]
  },
  {
   "cell_type": "markdown",
   "metadata": {
    "colab_type": "text",
    "id": "9TF23_MEmndT"
   },
   "source": [
    "In SVMs, each data sample $x_n$ has a corresponding parameter $\\alpha_n$ which indicates if $x_n$ is a support vector. In the latter case $\\alpha_n > 0$ holds. \n",
    "The goal of learning the SVM is to figure out which samples are support vectors by learning $\\mathbf{\\alpha}$. The dual SVM optimizes the following quadratic program.\n",
    "\n",
    "$$ \\min \\frac{1}{2} \\sum_{n=1}^N \\sum_{m=1}^N \\alpha_n \\alpha_m t_n t_m k(\\mathbf{x}_n, \\mathbf{x}_m) - \\sum_{n=1}^N \\alpha_n$$\n",
    "subject to \n",
    "$$ 0 \\leq \\alpha_n \\leq C $$\n",
    "$$ \\sum_{n=1}^N \\alpha_n t_n = 0 $$ \n",
    "\n",
    "The quadratic program solver expects the following form:\n",
    "$$ \\min \\frac{1}{2} \\alpha^T P \\alpha - \\mathbf q^T \\mathbf \\alpha $$\n",
    "subject to \n",
    "\n",
    "$$A \\alpha = b$$\n",
    "$$G \\alpha \\leq h $$\n",
    "\n",
    "Here, $A$ and $G$ are matrices with one row per individual constraint. Similarly, $b$ and $h$ are vectors with one element per individual constraint.\n",
    "\n",
    "\n",
    "#### Task 2.1\n",
    " \n",
    "Use the code provided below as a basis to express the constrained optimization problem in terms of $P, q, A, b, G$ and $h$ and implement a function `fit_svm` which passes these variables to the provided QP solver.\n",
    "\n",
    "**Hints:**\n",
    "  - The box constraint $0 \\leq \\alpha_n \\leq C$ defines two constraints of the form $G \\alpha_n \\leq h$ for each $\\alpha_n$.\n",
    "  - The inequality $x \\geq 0$ is equivalent to $-x \\leq 0$."
   ]
  },
  {
   "cell_type": "code",
   "execution_count": 26,
   "metadata": {
    "colab": {},
    "colab_type": "code",
    "execution": {
     "iopub.execute_input": "2020-06-02T22:41:20.077Z",
     "iopub.status.busy": "2020-06-02T22:41:20.057Z",
     "iopub.status.idle": "2020-06-02T22:41:20.104Z",
     "shell.execute_reply": "2020-06-02T22:41:20.234Z"
    },
    "id": "d4sf1fCTmndU"
   },
   "outputs": [],
   "source": [
    "import numpy as np\n",
    "from cvxopt import matrix as cvxopt_matrix\n",
    "from cvxopt import solvers as cvxopt_solvers\n",
    "from numpy import linalg\n",
    "#import cvxopt \n",
    "#import cvxopt.solvers\n",
    "\n",
    "def linear_kernel(x1, x2):\n",
    "    return np.dot(x1, x2)\n",
    "\n",
    "def gaussian_kernel(x, y, sigma=5.0):\n",
    "    return np.exp(-linalg.norm(x-y)**2 / (2 * (sigma ** 2)))\n",
    "\n",
    "class SVM(object):\n",
    "\n",
    "    def __init__(self, kernel=linear_kernel, C=None):\n",
    "    #def __init__(self, kernel=gaussian_kernel, C=None):\n",
    "        self.kernel = kernel\n",
    "        self.C = C\n",
    "        if self.C is not None: self.C = float(self.C)\n",
    "\n",
    "    def fit(self, X, y):\n",
    "        n_samples, n_features = X.shape\n",
    "        \n",
    "        # Gram matrix\n",
    "        K = np.zeros((n_samples, n_samples))\n",
    "        for i in range(n_samples):\n",
    "            for j in range(n_samples):\n",
    "                K[i,j] = self.kernel(X[i], X[j])\n",
    "\n",
    "        P = cvxopt.matrix(np.outer(y,y) * K)\n",
    "        q = cvxopt.matrix(np.ones(n_samples) * -1)\n",
    "        A = cvxopt.matrix(y, (1,n_samples))\n",
    "        b = cvxopt.matrix(0.0)\n",
    "\n",
    "        if self.C is None:\n",
    "            G = cvxopt.matrix(np.diag(np.ones(n_samples) * -1))\n",
    "            h = cvxopt.matrix(np.zeros(n_samples))\n",
    "        else:\n",
    "            tmp1 = np.diag(np.ones(n_samples) * -1)\n",
    "            tmp2 = np.identity(n_samples)\n",
    "            G = cvxopt.matrix(np.vstack((tmp1, tmp2)))\n",
    "            tmp1 = np.zeros(n_samples)\n",
    "            tmp2 = np.ones(n_samples) * self.C\n",
    "            h = cvxopt.matrix(np.hstack((tmp1, tmp2)))\n",
    "\n",
    "        # solve QP problem\n",
    "        solution = cvxopt.solvers.qp(P, q, G, h, A, b)\n",
    "\n",
    "        # Lagrange multipliers\n",
    "        a = np.ravel(solution['x'])\n",
    "\n",
    "        # Support vectors have non zero lagrange multipliers\n",
    "        sv = a > 1e-5\n",
    "        ind = np.arange(len(a))[sv]\n",
    "        self.a = a[sv]\n",
    "        self.sv = X[sv]\n",
    "        self.sv_y = y[sv]\n",
    "        print(\"%d support vectors out of %d points\" % (len(self.a), n_samples))\n",
    "\n",
    "\n",
    "       # Intercept\n",
    "        self.b = 0\n",
    "        for n in range(len(self.a)):\n",
    "            self.b += self.sv_y[n]\n",
    "            self.b -= np.sum(self.a * self.sv_y * K[ind[n],sv])\n",
    "        self.b /= len(self.a)\n",
    "\n",
    "\n",
    "\n",
    "        # Weight vector\n",
    "        if self.kernel == linear_kernel:\n",
    "            self.w = np.zeros(n_features)\n",
    "            for n in range(len(self.a)):\n",
    "                self.w += self.a[n] * self.sv_y[n] * self.sv[n]\n",
    "        else:\n",
    "            self.w = None\n",
    "  \n",
    "    def project(self, X):\n",
    "        if self.w is not None:\n",
    "            return np.dot(X, self.w) + self.b\n",
    "        else:\n",
    "            y_predict = np.zeros(len(X))\n",
    "            for i in range(len(X)):\n",
    "                s = 0\n",
    "                for a, sv_y, sv in zip(self.a, self.sv_y, self.sv):\n",
    "                    s += a * sv_y * self.kernel(X[i], sv)\n",
    "                y_predict[i] = s\n",
    "            return y_predict + self.b\n",
    "\n",
    "    def predict(self, X):\n",
    "        return np.sign(self.project(X))"
   ]
  },
  {
   "cell_type": "markdown",
   "metadata": {
    "colab_type": "text",
    "id": "7x4FuaO-mndZ"
   },
   "source": [
    "#### Task 2.2\n",
    "\n",
    "Having learnt an SVM, we can use the calculated parameters to make predictions on novel samples.\n",
    "- Implement a function `svm_predict(X, kernel, lagr_mult, svs, sv_labels, intercept)`.\n",
    "- Use this function to compute the accuracy of a linear SVM on the test set."
   ]
  },
  {
   "cell_type": "code",
   "execution_count": 27,
   "metadata": {
    "colab": {},
    "colab_type": "code",
    "execution": {
     "iopub.execute_input": "2020-06-02T22:41:20.353Z",
     "iopub.status.busy": "2020-06-02T22:41:20.334Z",
     "iopub.status.idle": "2020-06-02T22:41:20.512Z",
     "shell.execute_reply": "2020-06-02T22:41:20.453Z"
    },
    "id": "LOLqsOybmndb"
   },
   "outputs": [],
   "source": [
    "def test_linear():\n",
    "    \n",
    "    X_train, X_test, y_train, y_test = split_data(X_2d, t_2d, 0.3,None,4711)\n",
    "    lm = SVM(C=100)\n",
    "    lm.fit(X_train, y_train)\n",
    "\n",
    "    y_predict = lm.predict(X_test)\n",
    "    correct = np.sum(y_predict == y_test)\n",
    "    print(\"%d out of %d predictions correct\" % (correct, len(y_predict)))\n",
    "    accuracy = accuracy_score(y_test,y_predict)*100\n",
    "    print(\"Accuracy: %f\" % accuracy)\n",
    "    #print('score linear kernel', np.mean(y_predict == y_test))"
   ]
  },
  {
   "cell_type": "code",
   "execution_count": 28,
   "metadata": {
    "colab": {
     "base_uri": "https://localhost:8080/",
     "height": 208
    },
    "colab_type": "code",
    "id": "jTUCWIjlmndg",
    "outputId": "9aafca2f-8094-4dbd-aa50-633d6203eef7"
   },
   "outputs": [
    {
     "name": "stdout",
     "output_type": "stream",
     "text": [
      "     pcost       dcost       gap    pres   dres\n",
      " 0: -3.7370e+03 -3.9120e+05  4e+05  1e-02  3e-14\n",
      " 1: -3.8067e+03 -1.1331e+04  8e+03  3e-04  1e-14\n",
      " 2: -6.6487e+03 -7.5233e+03  9e+02  3e-05  2e-14\n",
      " 3: -7.3925e+03 -7.4022e+03  1e+01  3e-07  2e-14\n",
      " 4: -7.3999e+03 -7.4000e+03  1e-01  3e-09  1e-14\n",
      " 5: -7.4000e+03 -7.4000e+03  1e-03  3e-11  2e-14\n",
      "Optimal solution found.\n",
      "74 support vectors out of 175 points\n",
      "26 out of 75 predictions correct\n",
      "Accuracy: 34.666667\n"
     ]
    }
   ],
   "source": [
    "from sklearn.metrics import accuracy_score\n",
    "\n",
    "cvxopt.solvers.options['show_progress'] = True   \n",
    "test_linear()"
   ]
  },
  {
   "cell_type": "markdown",
   "metadata": {
    "colab_type": "text",
    "id": "Ja3dKjU9mndk"
   },
   "source": [
    "**Task 2.3**\n",
    "\n",
    "- Instead of using the linear kernel (dot product), implement a Gaussian RBF kernel and use it in your SVM.\n",
    "- Compare results with sklearn implementation (SVC)\n",
    "- Visualize the predictions on the test set, the learned support vectors and the decision boundary."
   ]
  },
  {
   "cell_type": "code",
   "execution_count": 29,
   "metadata": {
    "colab": {},
    "colab_type": "code",
    "id": "6yfX0Q67mndm"
   },
   "outputs": [],
   "source": [
    "import numpy as np\n",
    "from numpy import linalg\n",
    "import cvxopt\n",
    "import cvxopt.solvers\n",
    "\n",
    "'''def linear_kernel(x1, x2):\n",
    "    return np.dot(x1, x2)'''\n",
    "\n",
    "def gaussian_kernel(x, y, sigma=5.0):\n",
    "    return np.exp(-linalg.norm(x-y)**2 / (2 * (sigma ** 2)))"
   ]
  },
  {
   "cell_type": "code",
   "execution_count": 30,
   "metadata": {
    "colab": {
     "base_uri": "https://localhost:8080/",
     "height": 1000
    },
    "colab_type": "code",
    "id": "u5t3iGQEmnds",
    "outputId": "bc23d45f-b36b-45b2-b7e2-bc5cc2f7e3b1"
   },
   "outputs": [
    {
     "name": "stdout",
     "output_type": "stream",
     "text": [
      "     pcost       dcost       gap    pres   dres\n",
      " 0: -7.4000e+01 -1.4800e+02  4e+02  1e+01  2e+00\n",
      " 1: -3.3217e+02 -3.3549e+02  1e+02  7e+00  1e+00\n",
      " 2: -3.7318e+04 -3.7322e+04  1e+02  7e+00  1e+00\n",
      " 3: -3.6989e+08 -3.6989e+08  5e+02  7e+00  1e+00\n",
      " 4: -3.6619e+14 -3.6619e+14  4e+06  7e+00  1e+00\n",
      " 5: -3.6253e+22 -3.6253e+22  4e+12  5e+05  1e+00\n",
      " 6: -3.5890e+32 -3.5890e+32  4e+20  6e+15  1e+00\n",
      " 7: -3.5530e+44 -3.5530e+44  4e+30  5e+00  1e+00\n",
      " 8: -3.5076e+58 -3.5076e+58  4e+42  7e+41  1e+00\n",
      " 9: -3.4726e+90 -3.4726e+90  3e+74  5e-02  7e-01\n",
      "10: -3.4378e+122 -3.4378e+122  3e+106  5e-04  7e-01\n",
      "11: -3.4035e+154 -3.4035e+154  3e+138 8e+137  7e-01\n",
      "12: -3.3694e+186 -3.3694e+186  3e+170  5e-08  7e-01\n",
      "13: -3.3694e+186 -3.3694e+186  3e+170  5e-08  7e-01\n",
      "14: -3.3694e+186 -3.3694e+186  3e+170  5e-08  7e-01\n",
      "15: -3.3694e+186 -3.3694e+186  3e+170  5e-08  7e-01\n",
      "16: -3.3694e+186 -3.3694e+186  3e+170  5e-08  8e-01\n",
      "17: -3.3694e+186 -3.3694e+186  3e+170  5e-08  1e+00\n",
      "18: -3.3694e+186 -3.3694e+186  3e+170  5e-08  3e+00\n",
      "19: -3.3694e+186 -3.3694e+186  3e+170  5e-08  1e+01\n",
      "20: -3.3694e+186 -3.3694e+186  3e+170  5e-08  4e+01\n",
      "21: -3.3694e+186 -3.3694e+186  3e+170  5e-08  6e+01\n",
      "22: -3.3694e+186 -3.3694e+186  3e+170  5e-08  3e+02\n",
      "23: -3.3694e+186 -3.3694e+186  3e+170  5e-08  5e+02\n",
      "24: -3.3694e+186 -3.3694e+186  3e+170  5e-08  2e+03\n",
      "25: -3.3694e+186 -3.3694e+186  3e+170  5e-08  9e+03\n",
      "26: -3.3694e+186 -3.3694e+186  3e+170  5e-08  3e+04\n",
      "27: -3.3694e+186 -3.3694e+186  3e+170  5e-08  4e+04\n",
      "28: -3.3694e+186 -3.3694e+186  3e+170  5e-08  1e+05\n",
      "29: -3.3694e+186 -3.3694e+186  3e+170  5e-08  4e+05\n",
      "30: -3.3694e+186 -3.3694e+186  3e+170  5e-08  2e+06\n",
      "31: -3.3694e+186 -3.3694e+186  3e+170  5e-08  5e+06\n",
      "32: -3.3694e+186 -3.3694e+186  3e+170  5e-08  1e+07\n",
      "33: -3.3694e+186 -3.3694e+186  3e+170  5e-08  6e+07\n",
      "34: -3.3694e+186 -3.3694e+186  3e+170  5e-08  2e+08\n",
      "35: -3.3694e+186 -3.3694e+186  3e+170  5e-08  5e+08\n",
      "36: -3.3694e+186 -3.3694e+186  3e+170  5e-08  1e+09\n",
      "37: -3.3694e+186 -3.3694e+186  3e+170  5e-08  5e+09\n",
      "38: -3.3694e+186 -3.3694e+186  3e+170  5e-08  4e+10\n",
      "39: -3.3694e+186 -3.3694e+186  3e+170  5e-08  4e+10\n",
      "40: -3.3694e+186 -3.3694e+186  3e+170  5e-08  1e+11\n",
      "41: -3.3694e+186 -3.3694e+186  3e+170  5e-08  3e+11\n",
      "42: -3.3694e+186 -3.3694e+186  3e+170  5e-08  5e+11\n",
      "43: -3.3694e+186 -3.3694e+186  3e+170  5e-08  5e+12\n",
      "44: -3.3694e+186 -3.3694e+186  3e+170  5e-08  9e+12\n",
      "45: -3.3694e+186 -3.3694e+186  3e+170  5e-08  2e+13\n",
      "46: -3.3694e+186 -3.3694e+186  3e+170  5e-08  6e+13\n",
      "47: -3.3694e+186 -3.3694e+186  3e+170  5e-08  2e+14\n",
      "48: -3.3694e+186 -3.3694e+186  3e+170  5e-08  4e+14\n",
      "49: -3.3694e+186 -3.3694e+186  3e+170  5e-08  2e+15\n",
      "50: -3.3694e+186 -3.3694e+186  3e+170  5e-08  6e+15\n",
      "51: -3.3694e+186 -3.3694e+186  3e+170  5e-08  1e+16\n",
      "52: -3.3694e+186 -3.3694e+186  3e+170  5e-08  5e+16\n",
      "53: -3.3694e+186 -3.3694e+186  3e+170  5e-08  3e+17\n",
      "54: -3.3694e+186 -3.3694e+186  3e+170  5e-08  6e+17\n",
      "55: -3.3694e+186 -3.3694e+186  3e+170  5e-08  1e+18\n",
      "56: -3.3694e+186 -3.3694e+186  3e+170  5e-08  3e+18\n",
      "57: -3.3694e+186 -3.3694e+186  3e+170  5e-08  2e+19\n",
      "58: -3.3694e+186 -3.3694e+186  3e+170  5e-08  3e+19\n",
      "59: -3.3694e+186 -3.3694e+186  3e+170  5e-08  1e+20\n",
      "60: -3.3694e+186 -3.3694e+186  3e+170  5e-08  3e+20\n",
      "61: -3.3694e+186 -3.3694e+186  3e+170  5e-08  1e+21\n",
      "62: -3.3694e+186 -3.3694e+186  3e+170  5e-08  3e+21\n",
      "63: -3.3694e+186 -3.3694e+186  3e+170  5e-08  1e+22\n",
      "64: -3.3694e+186 -3.3694e+186  3e+170  5e-08  2e+22\n",
      "65: -3.3694e+186 -3.3694e+186  3e+170  5e-08  5e+22\n",
      "66: -3.3694e+186 -3.3694e+186  3e+170  5e-08  2e+23\n",
      "67: -3.3694e+186 -3.3694e+186  3e+170  5e-08  2e+24\n",
      "68: -3.3694e+186 -3.3694e+186  3e+170  5e-08  2e+24\n",
      "69: -3.3694e+186 -3.3694e+186  3e+170  5e-08  7e+24\n",
      "70: -3.3694e+186 -3.3694e+186  3e+170  5e-08  2e+25\n",
      "71: -3.3694e+186 -3.3694e+186  3e+170  5e-08  3e+25\n",
      "72: -3.3694e+186 -3.3694e+186  3e+170  5e-08  2e+26\n",
      "73: -3.3694e+186 -3.3694e+186  3e+170  5e-08  2e+27\n",
      "74: -3.3694e+186 -3.3694e+186  3e+170  5e-08  3e+27\n",
      "75: -3.3694e+186 -3.3694e+186  3e+170  5e-08  6e+27\n",
      "76: -3.3694e+186 -3.3694e+186  3e+170  5e-08  3e+28\n",
      "77: -3.3694e+186 -3.3694e+186  3e+170  5e-08  4e+28\n",
      "78: -3.3694e+186 -3.3694e+186  3e+170  5e-08  1e+29\n",
      "79: -3.3694e+186 -3.3694e+186  3e+170  5e-08  3e+29\n",
      "80: -3.3694e+186 -3.3694e+186  3e+170  5e-08  1e+30\n",
      "81: -3.3694e+186 -3.3694e+186  3e+170  5e-08  1e+31\n",
      "82: -3.3694e+186 -3.3694e+186  3e+170  5e-08  2e+31\n",
      "83: -3.3694e+186 -3.3694e+186  3e+170  5e-08  4e+31\n",
      "84: -3.3694e+186 -3.3694e+186  3e+170  5e-08  9e+31\n",
      "85: -3.3694e+186 -3.3694e+186  3e+170  5e-08  2e+32\n",
      "86: -3.3694e+186 -3.3694e+186  3e+170  5e-08  2e+33\n",
      "87: -3.3694e+186 -3.3694e+186  3e+170  5e-08  2e+33\n",
      "88: -3.3694e+186 -3.3694e+186  3e+170  5e-08  1e+34\n",
      "89: -3.3694e+186 -3.3694e+186  3e+170  5e-08  3e+34\n",
      "90: -3.3694e+186 -3.3694e+186  3e+170  5e-08  7e+34\n",
      "91: -3.3694e+186 -3.3694e+186  3e+170  5e-08  6e+35\n",
      "92: -3.3694e+186 -3.3694e+186  3e+170  5e-08  2e+36\n",
      "93: -3.3694e+186 -3.3694e+186  3e+170  5e-08  3e+36\n",
      "94: -3.3694e+186 -3.3694e+186  3e+170  5e-08  6e+36\n",
      "95: -3.3694e+186 -3.3694e+186  3e+170  5e-08  1e+37\n",
      "96: -3.3694e+186 -3.3694e+186  3e+170  5e-08  8e+37\n",
      "97: -3.3694e+186 -3.3694e+186  3e+170  5e-08  1e+38\n",
      "98: -3.3694e+186 -3.3694e+186  3e+170  5e-08  4e+38\n",
      "99: -3.3694e+186 -3.3694e+186  3e+170  5e-08  9e+38\n",
      "100: -3.3694e+186 -3.3694e+186  3e+170  5e-08  3e+39\n",
      "Terminated (maximum number of iterations reached).\n",
      "74 support vectors out of 175 points\n",
      "26 out of 75 predictions correct\n",
      "34.66666666666667\n"
     ]
    },
    {
     "name": "stderr",
     "output_type": "stream",
     "text": [
      "/usr/local/lib/python3.6/dist-packages/ipykernel_launcher.py:12: UserWarning: No contour levels were found within the data range.\n",
      "  if sys.path[0] == '':\n",
      "/usr/local/lib/python3.6/dist-packages/ipykernel_launcher.py:13: UserWarning: No contour levels were found within the data range.\n",
      "  del sys.path[0]\n",
      "/usr/local/lib/python3.6/dist-packages/ipykernel_launcher.py:14: UserWarning: No contour levels were found within the data range.\n",
      "  \n"
     ]
    },
    {
     "data": {
      "image/png": "[encoded data removed]",
      "text/plain": [
       "<Figure size 432x288 with 1 Axes>"
      ]
     },
     "metadata": {
      "needs_background": "light",
      "tags": []
     },
     "output_type": "display_data"
    }
   ],
   "source": [
    "if __name__ == \"__main__\":\n",
    "    import matplotlib.pyplot as pl\n",
    "    \n",
    "    def plot_contour(X1_train, X2_train, clf):\n",
    "        pl.plot(X1_train[:,0], X1_train[:,1], \"ro\")\n",
    "        pl.plot(X2_train[:,0], X2_train[:,1], \"bo\")\n",
    "        pl.scatter(clf.sv[:,0], clf.sv[:,1], s=100, c=\"g\")\n",
    "        \n",
    "        X1, X2 = np.meshgrid(np.linspace(-6,6,50), np.linspace(-6,6,50))\n",
    "        X = np.array([[x1, x2] for x1, x2 in zip(np.ravel(X1), np.ravel(X2))])\n",
    "        Z = clf.project(X).reshape(X1.shape)\n",
    "        pl.contour(X1, X2, Z, [0.0], colors='k', linewidths=1, origin='lower')\n",
    "        pl.contour(X1, X2, Z + 1, [0.0], colors='grey', linewidths=1, origin='lower')\n",
    "        pl.contour(X1, X2, Z - 1, [0.0], colors='grey', linewidths=1, origin='lower')\n",
    "        \n",
    "        pl.axis(\"tight\")\n",
    "        pl.show()\n",
    "    \n",
    "              \n",
    "    def test_non_linear():\n",
    "        X_train, X_test, y_train, y_test = split_data(X_2d, t_2d, 0.3,None,4711)\n",
    "        \n",
    "        clf = SVM(gaussian_kernel)\n",
    "        clf.fit(X_train, y_train)\n",
    "        \n",
    "        y_predict = clf.predict(X_test)\n",
    "        correct = np.sum(y_predict == y_test)\n",
    "        print('{0} out of {1} predictions correct'.format(correct, len(y_predict)))\n",
    "        accuracy = accuracy_score(y_test,y_predict)*100\n",
    "        print(accuracy)\n",
    "        plot_contour(X_train[y_train==1], X_train[y_train==-1], clf)\n",
    "\n",
    "     \n",
    "\n",
    "    cvxopt.solvers.options['show_progress'] = True  \n",
    "    test_non_linear()\n",
    "    "
   ]
  },
  {
   "cell_type": "markdown",
   "metadata": {
    "colab_type": "text",
    "id": "CsiD1HU5mndw"
   },
   "source": [
    "The Linear Kernel has 70-75 Support Vectors (red), leading to an accuracy of only 60%"
   ]
  },
  {
   "cell_type": "code",
   "execution_count": 31,
   "metadata": {
    "colab": {
     "base_uri": "https://localhost:8080/",
     "height": 86
    },
    "colab_type": "code",
    "id": "fkTfN58Tmndx",
    "outputId": "26036b61-6c4c-4c44-e28a-02bf14a84be4"
   },
   "outputs": [
    {
     "data": {
      "text/plain": [
       "SVC(C=1.0, break_ties=False, cache_size=200, class_weight=None, coef0=0.0,\n",
       "    decision_function_shape='ovr', degree=3, gamma='scale', kernel='linear',\n",
       "    max_iter=-1, probability=False, random_state=None, shrinking=True,\n",
       "    tol=0.001, verbose=False)"
      ]
     },
     "execution_count": 31,
     "metadata": {
      "tags": []
     },
     "output_type": "execute_result"
    }
   ],
   "source": [
    "#Linear \n",
    "from sklearn import svm\n",
    "\n",
    "X_train, X_test, y_train, y_test = split_data(X_2d, t_2d, seed=1)\n",
    "clf_g = svm.SVC(kernel = 'linear')\n",
    "clf_g.fit(X_train, y_train)"
   ]
  },
  {
   "cell_type": "code",
   "execution_count": 32,
   "metadata": {
    "colab": {},
    "colab_type": "code",
    "id": "0sEGmyKimnd2"
   },
   "outputs": [],
   "source": [
    "y_pred_g = clf_g.predict(X_test)"
   ]
  },
  {
   "cell_type": "code",
   "execution_count": 33,
   "metadata": {
    "colab": {
     "base_uri": "https://localhost:8080/",
     "height": 34
    },
    "colab_type": "code",
    "id": "fQ7AZdlNmnd6",
    "outputId": "82354363-6c54-42f6-d5e2-2134c989cc24"
   },
   "outputs": [
    {
     "data": {
      "text/plain": [
       "60.0"
      ]
     },
     "execution_count": 33,
     "metadata": {
      "tags": []
     },
     "output_type": "execute_result"
    }
   ],
   "source": [
    "accuracy = accuracy_score(y_test,y_pred_g)*100\n",
    "accuracy"
   ]
  },
  {
   "cell_type": "code",
   "execution_count": 34,
   "metadata": {
    "colab": {
     "base_uri": "https://localhost:8080/",
     "height": 34
    },
    "colab_type": "code",
    "id": "lwhDHJUimnd_",
    "outputId": "6b9bc0e1-fa38-4362-efed-6df9aa510a2d"
   },
   "outputs": [
    {
     "data": {
      "text/plain": [
       "array([70, 75], dtype=int32)"
      ]
     },
     "execution_count": 34,
     "metadata": {
      "tags": []
     },
     "output_type": "execute_result"
    }
   ],
   "source": [
    "clf_g.support_vectors_\n",
    "# get indices of support vectors\n",
    "clf_g.support_\n",
    "# get number of support vectors for each class\n",
    "clf_g.n_support_"
   ]
  },
  {
   "cell_type": "code",
   "execution_count": 35,
   "metadata": {
    "colab": {
     "base_uri": "https://localhost:8080/",
     "height": 295
    },
    "colab_type": "code",
    "id": "SBzm8gcgmneE",
    "outputId": "5fbfacf4-9de5-497c-82f3-fd9114e0dc45"
   },
   "outputs": [
    {
     "data": {
      "image/png": "[encoded data removed]",
      "text/plain": [
       "<Figure size 432x288 with 1 Axes>"
      ]
     },
     "metadata": {
      "needs_background": "light",
      "tags": []
     },
     "output_type": "display_data"
    }
   ],
   "source": [
    "support_vectors_g = clf_g.support_vectors_\n",
    "\n",
    "# Visualize support vectors\n",
    "plt.scatter(X_train[:,0], X_train[:,1], color = 'blue')\n",
    "plt.scatter(support_vectors_g[:,0], support_vectors_g[:,1], color='red')\n",
    "plt.title('Linearly separable data with support vectors')\n",
    "plt.xlabel('X1')\n",
    "plt.ylabel('X2')\n",
    "plt.show()"
   ]
  },
  {
   "cell_type": "markdown",
   "metadata": {
    "colab_type": "text",
    "id": "Lf8bzaj-mneN"
   },
   "source": [
    "The Gaussian Kernel has 16-17 Support Vectors (red), leading to an accuracy of only 100%"
   ]
  },
  {
   "cell_type": "code",
   "execution_count": 36,
   "metadata": {
    "colab": {
     "base_uri": "https://localhost:8080/",
     "height": 86
    },
    "colab_type": "code",
    "id": "C47Xo3YKmneO",
    "outputId": "c7f30930-9070-404a-d263-5bb63ca6e8f8"
   },
   "outputs": [
    {
     "data": {
      "text/plain": [
       "SVC(C=1.0, break_ties=False, cache_size=200, class_weight=None, coef0=0.0,\n",
       "    decision_function_shape='ovr', degree=3, gamma='scale', kernel='rbf',\n",
       "    max_iter=-1, probability=False, random_state=None, shrinking=True,\n",
       "    tol=0.001, verbose=False)"
      ]
     },
     "execution_count": 36,
     "metadata": {
      "tags": []
     },
     "output_type": "execute_result"
    }
   ],
   "source": [
    "from sklearn import svm\n",
    "#Gaussian\n",
    "X_train, X_test, y_train, y_test = split_data(X_2d, t_2d, seed=1)\n",
    "clf = svm.SVC(kernel = 'rbf')\n",
    "#clf = svm.SVC()\n",
    "clf.fit(X_train, y_train)"
   ]
  },
  {
   "cell_type": "code",
   "execution_count": 37,
   "metadata": {
    "colab": {},
    "colab_type": "code",
    "id": "rl0o8sa1mneU"
   },
   "outputs": [],
   "source": [
    "y_pred = clf.predict(X_test)"
   ]
  },
  {
   "cell_type": "code",
   "execution_count": 38,
   "metadata": {
    "colab": {
     "base_uri": "https://localhost:8080/",
     "height": 34
    },
    "colab_type": "code",
    "id": "JnkiKeHZmneY",
    "outputId": "4cc04718-814c-48db-da06-25ae5184f1a5"
   },
   "outputs": [
    {
     "data": {
      "text/plain": [
       "array([16, 17], dtype=int32)"
      ]
     },
     "execution_count": 38,
     "metadata": {
      "tags": []
     },
     "output_type": "execute_result"
    }
   ],
   "source": [
    "clf.support_vectors_\n",
    "# get indices of support vectors\n",
    "clf.support_\n",
    "# get number of support vectors for each class\n",
    "clf.n_support_"
   ]
  },
  {
   "cell_type": "code",
   "execution_count": 39,
   "metadata": {
    "colab": {
     "base_uri": "https://localhost:8080/",
     "height": 34
    },
    "colab_type": "code",
    "id": "DiZDs6Wymnee",
    "outputId": "d7b41ad0-ed0e-4862-abe0-0f73b1797547"
   },
   "outputs": [
    {
     "data": {
      "text/plain": [
       "100.0"
      ]
     },
     "execution_count": 39,
     "metadata": {
      "tags": []
     },
     "output_type": "execute_result"
    }
   ],
   "source": [
    "from sklearn.metrics import accuracy_score\n",
    "accuracy = accuracy_score(y_test,y_pred)*100\n",
    "accuracy"
   ]
  },
  {
   "cell_type": "code",
   "execution_count": 40,
   "metadata": {
    "colab": {
     "base_uri": "https://localhost:8080/",
     "height": 295
    },
    "colab_type": "code",
    "id": "BUJpeVY-mneh",
    "outputId": "1e02848e-59a5-4759-d266-d3cfa862cf99"
   },
   "outputs": [
    {
     "data": {
      "image/png": "[encoded data removed]",
      "text/plain": [
       "<Figure size 432x288 with 1 Axes>"
      ]
     },
     "metadata": {
      "needs_background": "light",
      "tags": []
     },
     "output_type": "display_data"
    }
   ],
   "source": [
    "# Get support vectors themselves\n",
    "support_vectors = clf.support_vectors_\n",
    "\n",
    "# Visualize support vectors\n",
    "plt.scatter(X_train[:,0], X_train[:,1], color = 'blue')\n",
    "plt.scatter(support_vectors[:,0], support_vectors[:,1], color='red')\n",
    "plt.title('Linearly separable data with support vectors')\n",
    "plt.xlabel('X1')\n",
    "plt.ylabel('X2')\n",
    "plt.show()"
   ]
  },
  {
   "cell_type": "markdown",
   "metadata": {
    "colab_type": "text",
    "id": "g4UDXMa6mnem"
   },
   "source": [
    "# Task 3: Decision Trees\n",
    "\n",
    "Next, we will implement a simple decision tree classifier using the Wine dataset, one of the standard sklearn datasets. \n",
    "\n",
    "We will use the Gini impurity as a criterion for splitting. It is defined for a set of labels as\n",
    "$$ G = \\sum_{i=0}^C p(i) * (1- p(i)) $$\n",
    "\n",
    "Given labels $l$ and split $l_a$ and $l_b$, the removed impurity can be computed by $l - l_a + l_b$\n",
    "\n",
    "Here is a simple explanation of the Gini impurity that you may find useful: https://victorzhou.com/blog/gini-impurity/\n",
    "\n",
    "\n",
    "#### Task 3.1\n",
    "\n",
    "1. Plot the distribution of the first feature of for each class of the wine dataset.\n",
    "2. Implement a function `gini_impurity(t)` that computes the Gini impurity for an array of labels `t`.\n",
    "3. Calculate the removed Gini impurity for a split after 50 samples."
   ]
  },
  {
   "cell_type": "code",
   "execution_count": 41,
   "metadata": {
    "colab": {},
    "colab_type": "code",
    "execution": {
     "iopub.execute_input": "2020-06-02T22:41:23.123Z",
     "iopub.status.busy": "2020-06-02T22:41:23.106Z",
     "iopub.status.idle": "2020-06-02T22:41:23.179Z",
     "shell.execute_reply": "2020-06-02T22:41:23.253Z"
    },
    "id": "2EqA1L3dmnem"
   },
   "outputs": [],
   "source": [
    "# Load Wine dataset and split into train+test set\n",
    "from sklearn.datasets import load_wine\n",
    "X, t = load_wine(return_X_y=True)\n",
    "X_train, X_test, t_train, t_test = split_data(X, t)"
   ]
  },
  {
   "cell_type": "code",
   "execution_count": 42,
   "metadata": {
    "colab": {
     "base_uri": "https://localhost:8080/",
     "height": 139
    },
    "colab_type": "code",
    "id": "hQECHm70mner",
    "outputId": "2efd79cf-e5ac-4ba1-91fb-34e2f8d37075"
   },
   "outputs": [
    {
     "data": {
      "text/plain": [
       "array([[14.23,  1.71,  2.43, ...,  5.64,  1.04,  3.92],\n",
       "       [13.2 ,  1.78,  2.14, ...,  4.38,  1.05,  3.4 ],\n",
       "       [13.16,  2.36,  2.67, ...,  5.68,  1.03,  3.17],\n",
       "       ...,\n",
       "       [13.27,  4.28,  2.26, ..., 10.2 ,  0.59,  1.56],\n",
       "       [13.17,  2.59,  2.37, ...,  9.3 ,  0.6 ,  1.62],\n",
       "       [14.13,  4.1 ,  2.74, ...,  9.2 ,  0.61,  1.6 ]])"
      ]
     },
     "execution_count": 42,
     "metadata": {
      "tags": []
     },
     "output_type": "execute_result"
    }
   ],
   "source": [
    "X_new=X[:,0:12]\n",
    "X_new"
   ]
  },
  {
   "cell_type": "code",
   "execution_count": 43,
   "metadata": {
    "colab": {
     "base_uri": "https://localhost:8080/",
     "height": 72
    },
    "colab_type": "code",
    "id": "OpKbLoHJmnev",
    "outputId": "4ccd94a5-f11a-47e9-f287-605a393a60df"
   },
   "outputs": [
    {
     "name": "stderr",
     "output_type": "stream",
     "text": [
      "/usr/local/lib/python3.6/dist-packages/statsmodels/tools/_testing.py:19: FutureWarning: pandas.util.testing is deprecated. Use the functions in the public API at pandas.testing instead.\n",
      "  import pandas.util.testing as tm\n"
     ]
    }
   ],
   "source": [
    "%matplotlib inline\n",
    "from sklearn import datasets\n",
    "import matplotlib.pyplot as plt\n",
    "import seaborn as sns\n",
    "import pandas as pd\n",
    "import numpy as np"
   ]
  },
  {
   "cell_type": "code",
   "execution_count": 44,
   "metadata": {
    "colab": {
     "base_uri": "https://localhost:8080/",
     "height": 444
    },
    "colab_type": "code",
    "id": "5sJxNytDmnez",
    "outputId": "c767b03f-aa68-46ef-8fb6-ef8f6ec738c3"
   },
   "outputs": [
    {
     "data": {
      "text/html": [
       "<div>\n",
       "<style scoped>\n",
       "    .dataframe tbody tr th:only-of-type {\n",
       "        vertical-align: middle;\n",
       "    }\n",
       "\n",
       "    .dataframe tbody tr th {\n",
       "        vertical-align: top;\n",
       "    }\n",
       "\n",
       "    .dataframe thead th {\n",
       "        text-align: right;\n",
       "    }\n",
       "</style>\n",
       "<table border=\"1\" class=\"dataframe\">\n",
       "  <thead>\n",
       "    <tr style=\"text-align: right;\">\n",
       "      <th></th>\n",
       "      <th>alcohol</th>\n",
       "      <th>malic_acid</th>\n",
       "      <th>ash</th>\n",
       "      <th>alcalinity_of_ash</th>\n",
       "      <th>magnesium</th>\n",
       "      <th>total_phenols</th>\n",
       "      <th>flavanoids</th>\n",
       "      <th>nonflavanoid_phenols</th>\n",
       "      <th>proanthocyanins</th>\n",
       "      <th>color_intensity</th>\n",
       "      <th>hue</th>\n",
       "      <th>od280/od315_of_diluted_wines</th>\n",
       "      <th>proline</th>\n",
       "      <th>target</th>\n",
       "      <th>class</th>\n",
       "    </tr>\n",
       "  </thead>\n",
       "  <tbody>\n",
       "    <tr>\n",
       "      <th>0</th>\n",
       "      <td>14.23</td>\n",
       "      <td>1.71</td>\n",
       "      <td>2.43</td>\n",
       "      <td>15.6</td>\n",
       "      <td>127.0</td>\n",
       "      <td>2.80</td>\n",
       "      <td>3.06</td>\n",
       "      <td>0.28</td>\n",
       "      <td>2.29</td>\n",
       "      <td>5.64</td>\n",
       "      <td>1.04</td>\n",
       "      <td>3.92</td>\n",
       "      <td>1065.0</td>\n",
       "      <td>0</td>\n",
       "      <td>class_0</td>\n",
       "    </tr>\n",
       "    <tr>\n",
       "      <th>1</th>\n",
       "      <td>13.20</td>\n",
       "      <td>1.78</td>\n",
       "      <td>2.14</td>\n",
       "      <td>11.2</td>\n",
       "      <td>100.0</td>\n",
       "      <td>2.65</td>\n",
       "      <td>2.76</td>\n",
       "      <td>0.26</td>\n",
       "      <td>1.28</td>\n",
       "      <td>4.38</td>\n",
       "      <td>1.05</td>\n",
       "      <td>3.40</td>\n",
       "      <td>1050.0</td>\n",
       "      <td>0</td>\n",
       "      <td>class_0</td>\n",
       "    </tr>\n",
       "    <tr>\n",
       "      <th>2</th>\n",
       "      <td>13.16</td>\n",
       "      <td>2.36</td>\n",
       "      <td>2.67</td>\n",
       "      <td>18.6</td>\n",
       "      <td>101.0</td>\n",
       "      <td>2.80</td>\n",
       "      <td>3.24</td>\n",
       "      <td>0.30</td>\n",
       "      <td>2.81</td>\n",
       "      <td>5.68</td>\n",
       "      <td>1.03</td>\n",
       "      <td>3.17</td>\n",
       "      <td>1185.0</td>\n",
       "      <td>0</td>\n",
       "      <td>class_0</td>\n",
       "    </tr>\n",
       "    <tr>\n",
       "      <th>3</th>\n",
       "      <td>14.37</td>\n",
       "      <td>1.95</td>\n",
       "      <td>2.50</td>\n",
       "      <td>16.8</td>\n",
       "      <td>113.0</td>\n",
       "      <td>3.85</td>\n",
       "      <td>3.49</td>\n",
       "      <td>0.24</td>\n",
       "      <td>2.18</td>\n",
       "      <td>7.80</td>\n",
       "      <td>0.86</td>\n",
       "      <td>3.45</td>\n",
       "      <td>1480.0</td>\n",
       "      <td>0</td>\n",
       "      <td>class_0</td>\n",
       "    </tr>\n",
       "    <tr>\n",
       "      <th>4</th>\n",
       "      <td>13.24</td>\n",
       "      <td>2.59</td>\n",
       "      <td>2.87</td>\n",
       "      <td>21.0</td>\n",
       "      <td>118.0</td>\n",
       "      <td>2.80</td>\n",
       "      <td>2.69</td>\n",
       "      <td>0.39</td>\n",
       "      <td>1.82</td>\n",
       "      <td>4.32</td>\n",
       "      <td>1.04</td>\n",
       "      <td>2.93</td>\n",
       "      <td>735.0</td>\n",
       "      <td>0</td>\n",
       "      <td>class_0</td>\n",
       "    </tr>\n",
       "    <tr>\n",
       "      <th>...</th>\n",
       "      <td>...</td>\n",
       "      <td>...</td>\n",
       "      <td>...</td>\n",
       "      <td>...</td>\n",
       "      <td>...</td>\n",
       "      <td>...</td>\n",
       "      <td>...</td>\n",
       "      <td>...</td>\n",
       "      <td>...</td>\n",
       "      <td>...</td>\n",
       "      <td>...</td>\n",
       "      <td>...</td>\n",
       "      <td>...</td>\n",
       "      <td>...</td>\n",
       "      <td>...</td>\n",
       "    </tr>\n",
       "    <tr>\n",
       "      <th>173</th>\n",
       "      <td>13.71</td>\n",
       "      <td>5.65</td>\n",
       "      <td>2.45</td>\n",
       "      <td>20.5</td>\n",
       "      <td>95.0</td>\n",
       "      <td>1.68</td>\n",
       "      <td>0.61</td>\n",
       "      <td>0.52</td>\n",
       "      <td>1.06</td>\n",
       "      <td>7.70</td>\n",
       "      <td>0.64</td>\n",
       "      <td>1.74</td>\n",
       "      <td>740.0</td>\n",
       "      <td>2</td>\n",
       "      <td>class_2</td>\n",
       "    </tr>\n",
       "    <tr>\n",
       "      <th>174</th>\n",
       "      <td>13.40</td>\n",
       "      <td>3.91</td>\n",
       "      <td>2.48</td>\n",
       "      <td>23.0</td>\n",
       "      <td>102.0</td>\n",
       "      <td>1.80</td>\n",
       "      <td>0.75</td>\n",
       "      <td>0.43</td>\n",
       "      <td>1.41</td>\n",
       "      <td>7.30</td>\n",
       "      <td>0.70</td>\n",
       "      <td>1.56</td>\n",
       "      <td>750.0</td>\n",
       "      <td>2</td>\n",
       "      <td>class_2</td>\n",
       "    </tr>\n",
       "    <tr>\n",
       "      <th>175</th>\n",
       "      <td>13.27</td>\n",
       "      <td>4.28</td>\n",
       "      <td>2.26</td>\n",
       "      <td>20.0</td>\n",
       "      <td>120.0</td>\n",
       "      <td>1.59</td>\n",
       "      <td>0.69</td>\n",
       "      <td>0.43</td>\n",
       "      <td>1.35</td>\n",
       "      <td>10.20</td>\n",
       "      <td>0.59</td>\n",
       "      <td>1.56</td>\n",
       "      <td>835.0</td>\n",
       "      <td>2</td>\n",
       "      <td>class_2</td>\n",
       "    </tr>\n",
       "    <tr>\n",
       "      <th>176</th>\n",
       "      <td>13.17</td>\n",
       "      <td>2.59</td>\n",
       "      <td>2.37</td>\n",
       "      <td>20.0</td>\n",
       "      <td>120.0</td>\n",
       "      <td>1.65</td>\n",
       "      <td>0.68</td>\n",
       "      <td>0.53</td>\n",
       "      <td>1.46</td>\n",
       "      <td>9.30</td>\n",
       "      <td>0.60</td>\n",
       "      <td>1.62</td>\n",
       "      <td>840.0</td>\n",
       "      <td>2</td>\n",
       "      <td>class_2</td>\n",
       "    </tr>\n",
       "    <tr>\n",
       "      <th>177</th>\n",
       "      <td>14.13</td>\n",
       "      <td>4.10</td>\n",
       "      <td>2.74</td>\n",
       "      <td>24.5</td>\n",
       "      <td>96.0</td>\n",
       "      <td>2.05</td>\n",
       "      <td>0.76</td>\n",
       "      <td>0.56</td>\n",
       "      <td>1.35</td>\n",
       "      <td>9.20</td>\n",
       "      <td>0.61</td>\n",
       "      <td>1.60</td>\n",
       "      <td>560.0</td>\n",
       "      <td>2</td>\n",
       "      <td>class_2</td>\n",
       "    </tr>\n",
       "  </tbody>\n",
       "</table>\n",
       "<p>178 rows × 15 columns</p>\n",
       "</div>"
      ],
      "text/plain": [
       "     alcohol  malic_acid   ash  ...  proline  target    class\n",
       "0      14.23        1.71  2.43  ...   1065.0       0  class_0\n",
       "1      13.20        1.78  2.14  ...   1050.0       0  class_0\n",
       "2      13.16        2.36  2.67  ...   1185.0       0  class_0\n",
       "3      14.37        1.95  2.50  ...   1480.0       0  class_0\n",
       "4      13.24        2.59  2.87  ...    735.0       0  class_0\n",
       "..       ...         ...   ...  ...      ...     ...      ...\n",
       "173    13.71        5.65  2.45  ...    740.0       2  class_2\n",
       "174    13.40        3.91  2.48  ...    750.0       2  class_2\n",
       "175    13.27        4.28  2.26  ...    835.0       2  class_2\n",
       "176    13.17        2.59  2.37  ...    840.0       2  class_2\n",
       "177    14.13        4.10  2.74  ...    560.0       2  class_2\n",
       "\n",
       "[178 rows x 15 columns]"
      ]
     },
     "execution_count": 44,
     "metadata": {
      "tags": []
     },
     "output_type": "execute_result"
    }
   ],
   "source": [
    "raw_data = load_wine()\n",
    "features = pd.DataFrame(data=raw_data['data'],columns=raw_data['feature_names'])\n",
    "data = features\n",
    "data['target']=raw_data['target']\n",
    "data['class']=data['target'].map(lambda ind: raw_data['target_names'][ind])\n",
    "data"
   ]
  },
  {
   "cell_type": "code",
   "execution_count": 45,
   "metadata": {
    "colab": {
     "base_uri": "https://localhost:8080/",
     "height": 296
    },
    "colab_type": "code",
    "id": "W1r7qp5kmne4",
    "outputId": "3ad8f292-c96e-4b47-b2e1-f1dc000f3cf1"
   },
   "outputs": [
    {
     "data": {
      "text/plain": [
       "<matplotlib.legend.Legend at 0x7f92b03eccc0>"
      ]
     },
     "execution_count": 45,
     "metadata": {
      "tags": []
     },
     "output_type": "execute_result"
    },
    {
     "data": {
      "image/png": "[encoded data removed]",
      "text/plain": [
       "<Figure size 432x288 with 1 Axes>"
      ]
     },
     "metadata": {
      "needs_background": "light",
      "tags": []
     },
     "output_type": "display_data"
    }
   ],
   "source": [
    "#1. Plot the distribution of the first feature of for each class of the wine dataset.\n",
    "\n",
    "for i in data.target.unique():\n",
    "    sns.distplot(data['alcohol'][data.target==i],kde=1,label='{}'.format(i))\n",
    "\n",
    "plt.legend()"
   ]
  },
  {
   "cell_type": "code",
   "execution_count": 46,
   "metadata": {
    "colab": {},
    "colab_type": "code",
    "id": "gMP2nOXMmne9"
   },
   "outputs": [],
   "source": [
    "#2. Implement a function `gini_impurity(t)` that computes the Gini impurity for an array of labels `t`.\n",
    "def gini_impurity(t):\n",
    "    unique_values=np.unique(t)\n",
    "    t_list=[]\n",
    "    for i in range(0,len(unique_values)):\n",
    "        t_list.append(list(t.flatten()).count(unique_values[i]))\n",
    "    summe=0\n",
    "    for j in range(len(t_list)):\n",
    "        wert=(t_list[j]/len(t))*(1-(t_list[j]/len(t)))\n",
    "        summe+=wert\n",
    "    return summe"
   ]
  },
  {
   "cell_type": "code",
   "execution_count": 47,
   "metadata": {
    "colab": {
     "base_uri": "https://localhost:8080/",
     "height": 34
    },
    "colab_type": "code",
    "id": "qIdpGxoemnfB",
    "outputId": "44e3460a-b715-45d4-cb11-72fc461cfc15"
   },
   "outputs": [
    {
     "name": "stdout",
     "output_type": "stream",
     "text": [
      "Gini impurity: 0.6583133442747128\n"
     ]
    }
   ],
   "source": [
    "gi=gini_impurity(t)\n",
    "print(\"Gini impurity: \" +str(gi))"
   ]
  },
  {
   "cell_type": "code",
   "execution_count": 48,
   "metadata": {
    "colab": {
     "base_uri": "https://localhost:8080/",
     "height": 86
    },
    "colab_type": "code",
    "id": "-DbFUM8WmnfJ",
    "outputId": "4c099c92-3f67-4ced-88e1-de037c0ae5a6"
   },
   "outputs": [
    {
     "name": "stdout",
     "output_type": "stream",
     "text": [
      "Gini impurity for the first 50 samples: 0.0\n",
      "Gini impurity for the rest of the samples: 0.5467529296875\n",
      "Gini impurities weighted by number of elements in branch: 0.3931706460674157\n",
      "Removed Gini impurity: 0.2651426982072971\n"
     ]
    }
   ],
   "source": [
    "#3. Calculate the removed Gini impurity for a split after 50 samples.\n",
    "split1=gini_impurity(t[0:50])\n",
    "split2=gini_impurity(t[50:])\n",
    "print(\"Gini impurity for the first 50 samples: \" + str(split1))\n",
    "print(\"Gini impurity for the rest of the samples: \" + str(split2))\n",
    "weighted=((len(t[0:50])/len(t))*split1)+((len(t[50:])/len(t))*split2)\n",
    "print(\"Gini impurities weighted by number of elements in branch: \" + str(weighted))\n",
    "removed=gi-weighted\n",
    "print(\"Removed Gini impurity: \" + str(removed))"
   ]
  },
  {
   "cell_type": "markdown",
   "metadata": {
    "colab_type": "text",
    "id": "na1jXVl7mnfN"
   },
   "source": [
    "#### Task 3.2\n",
    "Plot the removed Gini impurity for the first 12 features. Which is the optimal split?"
   ]
  },
  {
   "cell_type": "code",
   "execution_count": 49,
   "metadata": {
    "colab": {},
    "colab_type": "code",
    "id": "Co5H4etSmnfO"
   },
   "outputs": [],
   "source": [
    "def splitfunction(t,split):\n",
    "    gi=gini_impurity(t)\n",
    "    split1=gini_impurity(t[0:split])\n",
    "    split2=gini_impurity(t[split:])\n",
    "    weighted=((len(t[0:split])/len(t))*split1)+((len(t[split:])/len(t))*split2)\n",
    "    removed=gi-weighted\n",
    "    return removed"
   ]
  },
  {
   "cell_type": "code",
   "execution_count": 50,
   "metadata": {
    "colab": {
     "base_uri": "https://localhost:8080/",
     "height": 501
    },
    "colab_type": "code",
    "id": "Zm4LREdcmnfT",
    "outputId": "19bada87-afbc-4500-999c-8c3c28b079ec"
   },
   "outputs": [
    {
     "data": {
      "image/png": "[encoded data removed]",
      "text/plain": [
       "<Figure size 864x576 with 12 Axes>"
      ]
     },
     "metadata": {
      "needs_background": "light",
      "tags": []
     },
     "output_type": "display_data"
    }
   ],
   "source": [
    "fig,axs = plt.subplots(3, 4, figsize=(12,8))\n",
    "axs[1][0].set_ylabel('removed Gini impurity')\n",
    "axs[2][1].set_xlabel('split after sample')\n",
    "\n",
    "for j in range(0,12): \n",
    "    liste=[]\n",
    "    for i in range(0,178):\n",
    "        liste.append(splitfunction(X[:,j],i))\n",
    "    if j==0:\n",
    "        axs[0][0].plot(range(0,178),liste)\n",
    "        axs[0][0].set_ylim(0,0.02)\n",
    "    if j==1:\n",
    "        axs[0][1].plot(range(0,178),liste)\n",
    "        axs[0][1].set_ylim(0,0.02)\n",
    "    if j==2:\n",
    "        axs[0][2].plot(range(0,178),liste)\n",
    "        axs[0][2].set_ylim(0,0.02)\n",
    "    if j==3:\n",
    "        axs[0][3].plot(range(0,178),liste)\n",
    "        axs[0][3].set_ylim(0,0.02)\n",
    "    if j==4:\n",
    "        axs[1][0].plot(range(0,178),liste)\n",
    "        axs[1][0].set_ylim(0,0.02)\n",
    "    if j==5:\n",
    "        axs[1][1].plot(range(0,178),liste)\n",
    "        axs[1][1].set_ylim(0,0.02)\n",
    "    if j==6:\n",
    "        axs[1][2].plot(range(0,178),liste)\n",
    "        axs[1][2].set_ylim(0,0.02)\n",
    "    if j==7:\n",
    "        axs[1][3].plot(range(0,178),liste)\n",
    "        axs[1][3].set_ylim(0,0.02)\n",
    "    if j==8:\n",
    "        axs[2][0].plot(range(0,178),liste)\n",
    "        axs[2][0].set_ylim(0,0.02)\n",
    "    if j==9:\n",
    "        axs[2][1].plot(range(0,178),liste)\n",
    "        axs[2][1].set_ylim(0,0.02)\n",
    "    if j==10:\n",
    "        axs[2][2].plot(range(0,178),liste)\n",
    "        axs[2][2].set_ylim(0,0.02)\n",
    "    if j==11:\n",
    "        axs[2][3].plot(range(0,178),liste)\n",
    "        axs[2][3].set_ylim(0,0.02)"
   ]
  },
  {
   "cell_type": "markdown",
   "metadata": {
    "colab_type": "text",
    "id": "r1pgtOrrmnfY"
   },
   "source": [
    "The optimal split feature is alcalinity_of_ash because it gives the highest removed gini impurity"
   ]
  },
  {
   "cell_type": "markdown",
   "metadata": {
    "colab_type": "text",
    "id": "kojTVDTUmnfZ"
   },
   "source": [
    "#### Task 3.3\n",
    "\n",
    "1. Implement a function `build_tree(X, t, depth)` which recursively builds a tree. Use the classes `Node` and `Leaf` as a data structure to build your tree.\n",
    "2. Implement a function `predict_tree(tree, x)` which makes a prediction for sample `x`. Obtain scores for the `wine` dataset and compare to `sklearn.tree.DecisionTree`.\n",
    "3. Switch back to the synthetic 2d dataset from the beginning (kernel methods). Compute scores and visualize the decisions in a 2d grid."
   ]
  },
  {
   "cell_type": "code",
   "execution_count": 51,
   "metadata": {
    "colab": {},
    "colab_type": "code",
    "id": "-UHU16_Zmnfa"
   },
   "outputs": [],
   "source": [
    "X_new=X[:,0:12]\n",
    "X_list = X_new.tolist()\n",
    "X_new2=X[:,:]\n",
    "X_list2 = X_new2.tolist()"
   ]
  },
  {
   "cell_type": "code",
   "execution_count": 52,
   "metadata": {
    "colab": {},
    "colab_type": "code",
    "id": "brHoy0NQmnfh"
   },
   "outputs": [],
   "source": [
    "#represents features\n",
    "header2 = [\"1\", \"2\", \"3\", \"4\", \"5\", \"6\", \"7\", \"8\", \"9\", \"10\", \"11\", \"12\"]"
   ]
  },
  {
   "cell_type": "code",
   "execution_count": 53,
   "metadata": {
    "colab": {},
    "colab_type": "code",
    "id": "ZajH06Ygmnfm"
   },
   "outputs": [],
   "source": [
    "def unique_vals(rows, col):\n",
    "    return set([row[col] for row in rows])"
   ]
  },
  {
   "cell_type": "code",
   "execution_count": 54,
   "metadata": {
    "colab": {},
    "colab_type": "code",
    "id": "ht_Qbdx5mnfr"
   },
   "outputs": [],
   "source": [
    "def class_counts(rows):\n",
    "    counts = {}  # a dictionary of label -> count.\n",
    "    for row in rows:\n",
    "        # in our dataset format, the label is always the last column\n",
    "        label = row[-1]\n",
    "        if label not in counts:\n",
    "            counts[label] = 0\n",
    "        counts[label] += 1\n",
    "    return counts"
   ]
  },
  {
   "cell_type": "code",
   "execution_count": 55,
   "metadata": {
    "colab": {},
    "colab_type": "code",
    "id": "0o29iQwEmnfv"
   },
   "outputs": [],
   "source": [
    "def is_numeric(value):\n",
    "    return isinstance(value, int) or isinstance(value, float)"
   ]
  },
  {
   "cell_type": "code",
   "execution_count": 56,
   "metadata": {
    "colab": {},
    "colab_type": "code",
    "id": "pdMYELeqmnf0"
   },
   "outputs": [],
   "source": [
    "class Question:\n",
    "\n",
    "    def __init__(self, column, value):\n",
    "        self.column = column\n",
    "        self.value = value\n",
    "\n",
    "    def match(self, example):\n",
    "        # Compare the feature value in an example to the\n",
    "        # feature value in this question.\n",
    "        val = example[self.column]\n",
    "        if is_numeric(val):\n",
    "            return val >= self.value\n",
    "        else:\n",
    "            return val == self.value\n",
    "\n",
    "    def __repr__(self):\n",
    "        # This is just a helper method to print\n",
    "        # the question in a readable format.\n",
    "        condition = \"==\"\n",
    "        if is_numeric(self.value):\n",
    "            condition = \">=\"\n",
    "        return \"Is %s %s %s?\" % (\n",
    "            header2[self.column], condition, str(self.value))"
   ]
  },
  {
   "cell_type": "code",
   "execution_count": 57,
   "metadata": {
    "colab": {},
    "colab_type": "code",
    "id": "eiuSS_unmnf5"
   },
   "outputs": [],
   "source": [
    "def partition(rows, question):\n",
    "    true_rows, false_rows = [], []\n",
    "    for row in rows:\n",
    "        if question.match(row):\n",
    "            true_rows.append(row)\n",
    "        else:\n",
    "            false_rows.append(row)\n",
    "    return true_rows, false_rows"
   ]
  },
  {
   "cell_type": "code",
   "execution_count": 58,
   "metadata": {
    "colab": {},
    "colab_type": "code",
    "id": "NovMGoNsmnf-"
   },
   "outputs": [],
   "source": [
    "def gini(rows):\n",
    "    #Calculate the Gini Impurity for a list of rows.\n",
    "    counts = class_counts(rows)\n",
    "    impurity = 1\n",
    "    for lbl in counts:\n",
    "        prob_of_lbl = counts[lbl] / float(len(rows))\n",
    "        impurity -= prob_of_lbl**2\n",
    "    return impurity"
   ]
  },
  {
   "cell_type": "code",
   "execution_count": 59,
   "metadata": {
    "colab": {},
    "colab_type": "code",
    "id": "oV0O4hV9mngC"
   },
   "outputs": [],
   "source": [
    "def info_gain(left, right, current_uncertainty):\n",
    "    #Information Gain. The uncertainty of the starting node, minus the weighted impurity of two child nodes.\n",
    "    p = float(len(left)) / (len(left) + len(right))\n",
    "    return current_uncertainty - p * gini(left) - (1 - p) * gini(right)"
   ]
  },
  {
   "cell_type": "code",
   "execution_count": 60,
   "metadata": {
    "colab": {
     "base_uri": "https://localhost:8080/",
     "height": 34
    },
    "colab_type": "code",
    "id": "whiriCTUmngH",
    "outputId": "fece9db9-bf4c-4331-bdf5-39fe3f316780"
   },
   "outputs": [
    {
     "data": {
      "text/plain": [
       "0.9893952783739468"
      ]
     },
     "execution_count": 60,
     "metadata": {
      "tags": []
     },
     "output_type": "execute_result"
    }
   ],
   "source": [
    "current_uncertainty = gini(X_list)\n",
    "current_uncertainty"
   ]
  },
  {
   "cell_type": "code",
   "execution_count": 61,
   "metadata": {
    "colab": {},
    "colab_type": "code",
    "id": "xowmC22TmngK"
   },
   "outputs": [],
   "source": [
    "def find_best_split(rows):\n",
    "    best_gain = 0  # keep track of the best information gain\n",
    "    best_question = None  # keep train of the feature / value that produced it\n",
    "    current_uncertainty = gini(rows)\n",
    "    n_features = len(rows[0]) - 1  # number of columns\n",
    "\n",
    "    for col in range(n_features):  # for each feature\n",
    "\n",
    "        values = set([row[col] for row in rows])  # unique values in the column\n",
    "\n",
    "        for val in values:  # for each value\n",
    "\n",
    "            question = Question(col, val)\n",
    "\n",
    "            # try splitting the dataset\n",
    "            true_rows, false_rows = partition(rows, question)\n",
    "\n",
    "            # Skip this split if it doesn't divide the\n",
    "            # dataset.\n",
    "            if len(true_rows) == 0 or len(false_rows) == 0:\n",
    "                continue\n",
    "\n",
    "            # Calculate the information gain from this split\n",
    "            gain = info_gain(true_rows, false_rows, current_uncertainty)\n",
    "\n",
    "            # You actually can use '>' instead of '>=' here\n",
    "            # but I wanted the tree to look a certain way for our\n",
    "            # toy dataset.\n",
    "            if gain >= best_gain:\n",
    "                best_gain, best_question = gain, question\n",
    "\n",
    "    return best_gain, best_question"
   ]
  },
  {
   "cell_type": "code",
   "execution_count": 62,
   "metadata": {
    "colab": {
     "base_uri": "https://localhost:8080/",
     "height": 34
    },
    "colab_type": "code",
    "id": "a6soURbNmngO",
    "outputId": "063484bb-dfab-4123-b0d1-15e449b2122b"
   },
   "outputs": [
    {
     "data": {
      "text/plain": [
       "Is 7 >= 1.09?"
      ]
     },
     "execution_count": 62,
     "metadata": {
      "tags": []
     },
     "output_type": "execute_result"
    }
   ],
   "source": [
    "best_gain, best_question = find_best_split(X_list)\n",
    "best_question"
   ]
  },
  {
   "cell_type": "markdown",
   "metadata": {
    "colab_type": "text",
    "id": "xjDHrR93mngU"
   },
   "source": [
    "The best is to split on the feature \"flavanoids\""
   ]
  },
  {
   "cell_type": "code",
   "execution_count": 63,
   "metadata": {
    "colab": {},
    "colab_type": "code",
    "id": "lbi8m9frmngU"
   },
   "outputs": [],
   "source": [
    "class Leaf:\n",
    "    def __init__(self, rows):\n",
    "        self.predictions = class_counts(rows)\n",
    "class Node:\n",
    "    def __init__(self,\n",
    "                 question,\n",
    "                 true_branch,\n",
    "                 false_branch):\n",
    "        self.question = question\n",
    "        self.true_branch = true_branch\n",
    "        self.false_branch = false_branch"
   ]
  },
  {
   "cell_type": "code",
   "execution_count": 64,
   "metadata": {
    "colab": {},
    "colab_type": "code",
    "id": "FZVEqDJ3mngZ"
   },
   "outputs": [],
   "source": [
    "def build_tree(rows):\n",
    "    gain, question = find_best_split(rows)\n",
    "\n",
    "    if gain == 0:\n",
    "        return Leaf(rows)\n",
    "\n",
    "    # If we reach here, we have found a useful feature / value\n",
    "    # to partition on.\n",
    "    true_rows, false_rows = partition(rows, question)\n",
    "\n",
    "    # Recursively build the true branch.\n",
    "    true_branch = build_tree(true_rows)\n",
    "\n",
    "    # Recursively build the false branch.\n",
    "    false_branch = build_tree(false_rows)\n",
    "\n",
    "    # Return a Question node.\n",
    "    # This records the best feature / value to ask at this point,\n",
    "    # as well as the branches to follow\n",
    "    # dependingo on the answer.\n",
    "    return Node(question, true_branch, false_branch)"
   ]
  },
  {
   "cell_type": "code",
   "execution_count": 65,
   "metadata": {
    "colab": {},
    "colab_type": "code",
    "id": "bKHURh0nmngc"
   },
   "outputs": [],
   "source": [
    "def print_tree(node, spacing=\"\"):\n",
    "\n",
    "    if isinstance(node, Leaf):\n",
    "        print (spacing + \"Predict\", node.predictions)\n",
    "        return\n",
    "\n",
    "    # Print the question at this node\n",
    "    print (spacing + str(node.question))\n",
    "\n",
    "    # Call this function recursively on the true branch\n",
    "    print (spacing + '--> True:')\n",
    "    print_tree(node.true_branch, spacing + \"  \")\n",
    "\n",
    "    # Call this function recursively on the false branch\n",
    "    print (spacing + '--> False:')\n",
    "    print_tree(node.false_branch, spacing + \"  \")"
   ]
  },
  {
   "cell_type": "code",
   "execution_count": 66,
   "metadata": {
    "colab": {
     "base_uri": "https://localhost:8080/",
     "height": 1000
    },
    "colab_type": "code",
    "id": "GVLPYQ7Nmngg",
    "outputId": "00363655-8670-475d-b705-a284646706dc"
   },
   "outputs": [
    {
     "name": "stdout",
     "output_type": "stream",
     "text": [
      "Is 7 >= 2.04?\n",
      "--> True:\n",
      "  Is 2 >= 4.31?\n",
      "  --> True:\n",
      "    Is 11 >= 0.92?\n",
      "    --> True:\n",
      "      Predict {365.0: 1}\n",
      "    --> False:\n",
      "      Predict {380.0: 2}\n",
      "  --> False:\n",
      "    Is 4 >= 13.2?\n",
      "    --> True:\n",
      "      Is 1 >= 14.12?\n",
      "      --> True:\n",
      "        Is 9 >= 2.19?\n",
      "        --> True:\n",
      "          Predict {1065.0: 2}\n",
      "        --> False:\n",
      "          Is 12 >= 2.85?\n",
      "          --> True:\n",
      "            Is 12 >= 3.53?\n",
      "            --> True:\n",
      "              Is 12 >= 3.58?\n",
      "              --> True:\n",
      "                Predict {1290.0: 1}\n",
      "              --> False:\n",
      "                Predict {760.0: 1}\n",
      "            --> False:\n",
      "              Is 12 >= 3.33?\n",
      "              --> True:\n",
      "                Is 12 >= 3.45?\n",
      "                --> True:\n",
      "                  Predict {1480.0: 1}\n",
      "                --> False:\n",
      "                  Predict {1080.0: 1}\n",
      "              --> False:\n",
      "                Is 11 >= 1.05?\n",
      "                --> True:\n",
      "                  Is 11 >= 1.08?\n",
      "                  --> True:\n",
      "                    Predict {1045.0: 1}\n",
      "                  --> False:\n",
      "                    Predict {1450.0: 1}\n",
      "                --> False:\n",
      "                  Predict {970.0: 1}\n",
      "          --> False:\n",
      "            Is 11 >= 1.23?\n",
      "            --> True:\n",
      "              Predict {1680.0: 1}\n",
      "            --> False:\n",
      "              Predict {1280.0: 2}\n",
      "      --> False:\n",
      "        Is 1 >= 13.3?\n",
      "        --> True:\n",
      "          Is 12 >= 2.88?\n",
      "          --> True:\n",
      "            Is 10 >= 4.8?\n",
      "            --> True:\n",
      "              Is 12 >= 3.56?\n",
      "              --> True:\n",
      "                Is 12 >= 3.58?\n",
      "                --> True:\n",
      "                  Is 12 >= 3.71?\n",
      "                  --> True:\n",
      "                    Predict {780.0: 1}\n",
      "                  --> False:\n",
      "                    Predict {1295.0: 1}\n",
      "                --> False:\n",
      "                  Predict {1095.0: 1}\n",
      "              --> False:\n",
      "                Is 12 >= 3.37?\n",
      "                --> True:\n",
      "                  Is 12 >= 3.38?\n",
      "                  --> True:\n",
      "                    Is 12 >= 3.47?\n",
      "                    --> True:\n",
      "                      Is 12 >= 3.55?\n",
      "                      --> True:\n",
      "                        Predict {1045.0: 1}\n",
      "                      --> False:\n",
      "                        Predict {920.0: 1}\n",
      "                    --> False:\n",
      "                      Predict {795.0: 1}\n",
      "                  --> False:\n",
      "                    Predict {1265.0: 1}\n",
      "                --> False:\n",
      "                  Is 12 >= 3.0?\n",
      "                  --> True:\n",
      "                    Is 12 >= 3.1?\n",
      "                    --> True:\n",
      "                      Is 12 >= 3.33?\n",
      "                      --> True:\n",
      "                        Is 12 >= 3.36?\n",
      "                        --> True:\n",
      "                          Predict {845.0: 1}\n",
      "                        --> False:\n",
      "                          Predict {985.0: 1}\n",
      "                      --> False:\n",
      "                        Is 12 >= 3.22?\n",
      "                        --> True:\n",
      "                          Is 12 >= 3.26?\n",
      "                          --> True:\n",
      "                            Predict {1190.0: 1}\n",
      "                          --> False:\n",
      "                            Predict {1195.0: 1}\n",
      "                        --> False:\n",
      "                          Is 12 >= 3.17?\n",
      "                          --> True:\n",
      "                            Is 12 >= 3.2?\n",
      "                            --> True:\n",
      "                              Predict {1060.0: 1}\n",
      "                            --> False:\n",
      "                              Predict {1510.0: 1}\n",
      "                          --> False:\n",
      "                            Predict {1260.0: 1}\n",
      "                    --> False:\n",
      "                      Is 12 >= 3.03?\n",
      "                      --> True:\n",
      "                        Predict {1120.0: 1}\n",
      "                      --> False:\n",
      "                        Predict {1235.0: 1}\n",
      "                  --> False:\n",
      "                    Is 12 >= 2.93?\n",
      "                    --> True:\n",
      "                      Predict {1375.0: 1}\n",
      "                    --> False:\n",
      "                      Is 11 >= 1.15?\n",
      "                      --> True:\n",
      "                        Is 12 >= 2.9?\n",
      "                        --> True:\n",
      "                          Predict {1320.0: 1}\n",
      "                        --> False:\n",
      "                          Predict {1310.0: 1}\n",
      "                      --> False:\n",
      "                        Predict {1515.0: 1}\n",
      "            --> False:\n",
      "              Is 11 >= 1.12?\n",
      "              --> True:\n",
      "                Is 12 >= 3.4?\n",
      "                --> True:\n",
      "                  Is 12 >= 3.82?\n",
      "                  --> True:\n",
      "                    Predict {845.0: 1}\n",
      "                  --> False:\n",
      "                    Predict {915.0: 1}\n",
      "                --> False:\n",
      "                  Predict {410.0: 1}\n",
      "              --> False:\n",
      "                Predict {1035.0: 3}\n",
      "          --> False:\n",
      "            Is 8 >= 0.32?\n",
      "            --> True:\n",
      "              Is 12 >= 2.75?\n",
      "              --> True:\n",
      "                Is 12 >= 2.87?\n",
      "                --> True:\n",
      "                  Predict {990.0: 1}\n",
      "                --> False:\n",
      "                  Predict {1060.0: 1}\n",
      "              --> False:\n",
      "                Predict {1130.0: 1}\n",
      "            --> False:\n",
      "              Is 6 >= 2.4?\n",
      "              --> True:\n",
      "                Predict {1285.0: 3}\n",
      "              --> False:\n",
      "                Predict {1095.0: 1}\n",
      "        --> False:\n",
      "          Is 7 >= 2.27?\n",
      "          --> True:\n",
      "            Is 11 >= 1.03?\n",
      "            --> True:\n",
      "              Is 12 >= 3.52?\n",
      "              --> True:\n",
      "                Is 12 >= 3.63?\n",
      "                --> True:\n",
      "                  Predict {1015.0: 1}\n",
      "                --> False:\n",
      "                  Predict {770.0: 1}\n",
      "              --> False:\n",
      "                Is 12 >= 2.74?\n",
      "                --> True:\n",
      "                  Is 12 >= 2.84?\n",
      "                  --> True:\n",
      "                    Is 12 >= 3.17?\n",
      "                    --> True:\n",
      "                      Is 12 >= 3.18?\n",
      "                      --> True:\n",
      "                        Is 12 >= 3.2?\n",
      "                        --> True:\n",
      "                          Is 12 >= 3.5?\n",
      "                          --> True:\n",
      "                            Predict {985.0: 1}\n",
      "                          --> False:\n",
      "                            Predict {830.0: 1}\n",
      "                        --> False:\n",
      "                          Predict {502.0: 1}\n",
      "                      --> False:\n",
      "                        Predict {1185.0: 1}\n",
      "                    --> False:\n",
      "                      Is 12 >= 3.13?\n",
      "                      --> True:\n",
      "                        Is 12 >= 3.14?\n",
      "                        --> True:\n",
      "                          Predict {714.0: 1}\n",
      "                        --> False:\n",
      "                          Predict {463.0: 1}\n",
      "                      --> False:\n",
      "                        Is 12 >= 2.87?\n",
      "                        --> True:\n",
      "                          Is 12 >= 2.93?\n",
      "                          --> True:\n",
      "                            Predict {735.0: 1}\n",
      "                          --> False:\n",
      "                            Predict {420.0: 1}\n",
      "                        --> False:\n",
      "                          Predict {1270.0: 1}\n",
      "                  --> False:\n",
      "                    Is 12 >= 2.83?\n",
      "                    --> True:\n",
      "                      Predict {406.0: 1}\n",
      "                    --> False:\n",
      "                      Is 12 >= 2.77?\n",
      "                      --> True:\n",
      "                        Is 12 >= 2.78?\n",
      "                        --> True:\n",
      "                          Predict {880.0: 1}\n",
      "                        --> False:\n",
      "                          Predict {660.0: 1}\n",
      "                      --> False:\n",
      "                        Predict {428.0: 1}\n",
      "                --> False:\n",
      "                  Is 12 >= 2.69?\n",
      "                  --> True:\n",
      "                    Predict {1020.0: 1}\n",
      "                  --> False:\n",
      "                    Is 12 >= 2.51?\n",
      "                    --> True:\n",
      "                      Is 12 >= 2.63?\n",
      "                      --> True:\n",
      "                        Predict {937.0: 1}\n",
      "                      --> False:\n",
      "                        Predict {1105.0: 1}\n",
      "                    --> False:\n",
      "                      Predict {678.0: 1}\n",
      "            --> False:\n",
      "              Is 4 >= 21.0?\n",
      "              --> True:\n",
      "                Is 12 >= 3.19?\n",
      "                --> True:\n",
      "                  Is 12 >= 3.28?\n",
      "                  --> True:\n",
      "                    Is 12 >= 3.69?\n",
      "                    --> True:\n",
      "                      Predict {465.0: 1}\n",
      "                    --> False:\n",
      "                      Predict {378.0: 1}\n",
      "                  --> False:\n",
      "                    Predict {385.0: 1}\n",
      "                --> False:\n",
      "                  Is 11 >= 0.89?\n",
      "                  --> True:\n",
      "                    Is 11 >= 0.9?\n",
      "                    --> True:\n",
      "                      Predict {325.0: 1}\n",
      "                    --> False:\n",
      "                      Predict {342.0: 1}\n",
      "                  --> False:\n",
      "                    Predict {352.0: 1}\n",
      "              --> False:\n",
      "                Is 6 >= 2.9?\n",
      "                --> True:\n",
      "                  Is 12 >= 3.35?\n",
      "                  --> True:\n",
      "                    Is 12 >= 3.39?\n",
      "                    --> True:\n",
      "                      Predict {625.0: 1}\n",
      "                    --> False:\n",
      "                      Predict {885.0: 1}\n",
      "                  --> False:\n",
      "                    Predict {562.0: 1}\n",
      "                --> False:\n",
      "                  Predict {680.0: 2}\n",
      "          --> False:\n",
      "            Is 5 >= 98.0?\n",
      "            --> True:\n",
      "              Is 12 >= 3.13?\n",
      "              --> True:\n",
      "                Is 12 >= 3.38?\n",
      "                --> True:\n",
      "                  Predict {438.0: 1}\n",
      "                --> False:\n",
      "                  Predict {886.0: 1}\n",
      "              --> False:\n",
      "                Predict {345.0: 2}\n",
      "            --> False:\n",
      "              Is 12 >= 3.12?\n",
      "              --> True:\n",
      "                Is 12 >= 3.3?\n",
      "                --> True:\n",
      "                  Predict {290.0: 1}\n",
      "                --> False:\n",
      "                  Predict {278.0: 1}\n",
      "              --> False:\n",
      "                Is 12 >= 3.02?\n",
      "                --> True:\n",
      "                  Is 12 >= 3.08?\n",
      "                  --> True:\n",
      "                    Predict {520.0: 1}\n",
      "                  --> False:\n",
      "                    Predict {312.0: 1}\n",
      "                --> False:\n",
      "                  Is 12 >= 2.87?\n",
      "                  --> True:\n",
      "                    Is 12 >= 2.96?\n",
      "                    --> True:\n",
      "                      Predict {710.0: 1}\n",
      "                    --> False:\n",
      "                      Predict {407.0: 1}\n",
      "                  --> False:\n",
      "                    Predict {466.0: 1}\n",
      "    --> False:\n",
      "      Is 12 >= 3.0?\n",
      "      --> True:\n",
      "        Is 12 >= 3.4?\n",
      "        --> True:\n",
      "          Predict {1050.0: 1}\n",
      "        --> False:\n",
      "          Predict {1547.0: 1}\n",
      "      --> False:\n",
      "        Predict {1150.0: 2}\n",
      "--> False:\n",
      "  Is 1 >= 14.16?\n",
      "  --> True:\n",
      "    Predict {660.0: 2}\n",
      "  --> False:\n",
      "    Is 7 >= 2.0?\n",
      "    --> True:\n",
      "      Is 12 >= 3.17?\n",
      "      --> True:\n",
      "        Predict {510.0: 2}\n",
      "      --> False:\n",
      "        Is 12 >= 2.48?\n",
      "        --> True:\n",
      "          Is 12 >= 2.5?\n",
      "          --> True:\n",
      "            Predict {607.0: 1}\n",
      "          --> False:\n",
      "            Predict {392.0: 1}\n",
      "        --> False:\n",
      "          Predict {434.0: 1}\n",
      "    --> False:\n",
      "      Is 2 >= 1.66?\n",
      "      --> True:\n",
      "        Is 4 >= 22.5?\n",
      "        --> True:\n",
      "          Is 7 >= 0.58?\n",
      "          --> True:\n",
      "            Is 8 >= 0.61?\n",
      "            --> True:\n",
      "              Is 11 >= 0.82?\n",
      "              --> True:\n",
      "                Predict {515.0: 2}\n",
      "              --> False:\n",
      "                Predict {880.0: 1}\n",
      "            --> False:\n",
      "              Is 11 >= 0.67?\n",
      "              --> True:\n",
      "                Is 12 >= 1.92?\n",
      "                --> True:\n",
      "                  Is 12 >= 2.78?\n",
      "                  --> True:\n",
      "                    Is 12 >= 3.21?\n",
      "                    --> True:\n",
      "                      Predict {562.0: 1}\n",
      "                    --> False:\n",
      "                      Predict {472.0: 1}\n",
      "                  --> False:\n",
      "                    Is 12 >= 2.15?\n",
      "                    --> True:\n",
      "                      Is 12 >= 2.42?\n",
      "                      --> True:\n",
      "                        Predict {488.0: 1}\n",
      "                      --> False:\n",
      "                        Predict {590.0: 1}\n",
      "                    --> False:\n",
      "                      Predict {630.0: 1}\n",
      "                --> False:\n",
      "                  Is 11 >= 0.85?\n",
      "                  --> True:\n",
      "                    Predict {695.0: 1}\n",
      "                  --> False:\n",
      "                    Predict {750.0: 2}\n",
      "              --> False:\n",
      "                Is 7 >= 1.1?\n",
      "                --> True:\n",
      "                  Is 12 >= 1.33?\n",
      "                  --> True:\n",
      "                    Is 12 >= 1.78?\n",
      "                    --> True:\n",
      "                      Predict {620.0: 1}\n",
      "                    --> False:\n",
      "                      Predict {425.0: 1}\n",
      "                  --> False:\n",
      "                    Predict {500.0: 1}\n",
      "                --> False:\n",
      "                  Predict {560.0: 2}\n",
      "          --> False:\n",
      "            Predict {520.0: 2}\n",
      "        --> False:\n",
      "          Is 3 >= 2.46?\n",
      "          --> True:\n",
      "            Is 11 >= 0.96?\n",
      "            --> True:\n",
      "              Predict {680.0: 2}\n",
      "            --> False:\n",
      "              Is 7 >= 0.65?\n",
      "              --> True:\n",
      "                Is 12 >= 1.86?\n",
      "                --> True:\n",
      "                  Predict {625.0: 2}\n",
      "                --> False:\n",
      "                  Predict {480.0: 1}\n",
      "              --> False:\n",
      "                Is 12 >= 2.11?\n",
      "                --> True:\n",
      "                  Is 12 >= 2.31?\n",
      "                  --> True:\n",
      "                    Predict {600.0: 1}\n",
      "                  --> False:\n",
      "                    Predict {570.0: 1}\n",
      "                --> False:\n",
      "                  Predict {720.0: 1}\n",
      "          --> False:\n",
      "            Is 9 >= 1.56?\n",
      "            --> True:\n",
      "              Is 9 >= 1.87?\n",
      "              --> True:\n",
      "                Is 12 >= 3.05?\n",
      "                --> True:\n",
      "                  Predict {564.0: 1}\n",
      "                --> False:\n",
      "                  Predict {675.0: 1}\n",
      "              --> False:\n",
      "                Predict {480.0: 2}\n",
      "            --> False:\n",
      "              Is 5 >= 89.0?\n",
      "              --> True:\n",
      "                Is 2 >= 3.9?\n",
      "                --> True:\n",
      "                  Is 7 >= 0.8?\n",
      "                  --> True:\n",
      "                    Predict {550.0: 2}\n",
      "                  --> False:\n",
      "                    Is 12 >= 1.56?\n",
      "                    --> True:\n",
      "                      Is 12 >= 1.74?\n",
      "                      --> True:\n",
      "                        Predict {740.0: 1}\n",
      "                      --> False:\n",
      "                        Predict {835.0: 1}\n",
      "                    --> False:\n",
      "                      Predict {725.0: 1}\n",
      "                --> False:\n",
      "                  Is 12 >= 2.0?\n",
      "                  --> True:\n",
      "                    Is 12 >= 2.52?\n",
      "                    --> True:\n",
      "                      Is 12 >= 3.3?\n",
      "                      --> True:\n",
      "                        Predict {315.0: 1}\n",
      "                      --> False:\n",
      "                        Predict {500.0: 1}\n",
      "                    --> False:\n",
      "                      Is 12 >= 2.14?\n",
      "                      --> True:\n",
      "                        Is 12 >= 2.47?\n",
      "                        --> True:\n",
      "                          Predict {780.0: 1}\n",
      "                        --> False:\n",
      "                          Predict {428.0: 1}\n",
      "                      --> False:\n",
      "                        Predict {855.0: 1}\n",
      "                  --> False:\n",
      "                    Is 12 >= 1.68?\n",
      "                    --> True:\n",
      "                      Is 12 >= 1.83?\n",
      "                      --> True:\n",
      "                        Predict {510.0: 1}\n",
      "                      --> False:\n",
      "                        Is 11 >= 0.68?\n",
      "                        --> True:\n",
      "                          Is 12 >= 1.75?\n",
      "                          --> True:\n",
      "                            Predict {675.0: 1}\n",
      "                          --> False:\n",
      "                            Predict {615.0: 1}\n",
      "                        --> False:\n",
      "                          Predict {830.0: 1}\n",
      "                    --> False:\n",
      "                      Is 12 >= 1.62?\n",
      "                      --> True:\n",
      "                        Is 11 >= 0.6?\n",
      "                        --> True:\n",
      "                          Predict {840.0: 1}\n",
      "                        --> False:\n",
      "                          Predict {650.0: 1}\n",
      "                      --> False:\n",
      "                        Is 12 >= 1.42?\n",
      "                        --> True:\n",
      "                          Is 12 >= 1.58?\n",
      "                          --> True:\n",
      "                            Predict {695.0: 1}\n",
      "                          --> False:\n",
      "                            Predict {530.0: 1}\n",
      "                        --> False:\n",
      "                          Predict {600.0: 1}\n",
      "              --> False:\n",
      "                Is 8 >= 0.42?\n",
      "                --> True:\n",
      "                  Is 11 >= 0.79?\n",
      "                  --> True:\n",
      "                    Predict {580.0: 2}\n",
      "                  --> False:\n",
      "                    Is 12 >= 1.63?\n",
      "                    --> True:\n",
      "                      Is 12 >= 2.12?\n",
      "                      --> True:\n",
      "                        Predict {372.0: 1}\n",
      "                      --> False:\n",
      "                        Predict {470.0: 1}\n",
      "                    --> False:\n",
      "                      Predict {520.0: 1}\n",
      "                --> False:\n",
      "                  Is 12 >= 3.57?\n",
      "                  --> True:\n",
      "                    Predict {672.0: 1}\n",
      "                  --> False:\n",
      "                    Is 10 >= 10.26?\n",
      "                    --> True:\n",
      "                      Predict {685.0: 1}\n",
      "                    --> False:\n",
      "                      Predict {415.0: 2}\n",
      "      --> False:\n",
      "        Is 2 >= 1.47?\n",
      "        --> True:\n",
      "          Is 7 >= 1.46?\n",
      "          --> True:\n",
      "            Predict {495.0: 3}\n",
      "          --> False:\n",
      "            Is 12 >= 2.65?\n",
      "            --> True:\n",
      "              Predict {450.0: 1}\n",
      "            --> False:\n",
      "              Predict {870.0: 1}\n",
      "        --> False:\n",
      "          Is 2 >= 1.1?\n",
      "          --> True:\n",
      "            Is 8 >= 0.42?\n",
      "            --> True:\n",
      "              Is 12 >= 1.55?\n",
      "              --> True:\n",
      "                Is 12 >= 2.23?\n",
      "                --> True:\n",
      "                  Is 12 >= 3.21?\n",
      "                  --> True:\n",
      "                    Predict {625.0: 1}\n",
      "                  --> False:\n",
      "                    Predict {355.0: 1}\n",
      "                --> False:\n",
      "                  Is 12 >= 1.59?\n",
      "                  --> True:\n",
      "                    Is 12 >= 1.67?\n",
      "                    --> True:\n",
      "                      Predict {680.0: 1}\n",
      "                    --> False:\n",
      "                      Predict {450.0: 1}\n",
      "                  --> False:\n",
      "                    Predict {640.0: 1}\n",
      "              --> False:\n",
      "                Predict {650.0: 1}\n",
      "            --> False:\n",
      "              Is 12 >= 2.77?\n",
      "              --> True:\n",
      "                Is 12 >= 3.07?\n",
      "                --> True:\n",
      "                  Predict {718.0: 1}\n",
      "                --> False:\n",
      "                  Predict {562.0: 1}\n",
      "              --> False:\n",
      "                Predict {630.0: 3}\n",
      "          --> False:\n",
      "            Is 10 >= 3.17?\n",
      "            --> True:\n",
      "              Predict {750.0: 2}\n",
      "            --> False:\n",
      "              Is 12 >= 3.16?\n",
      "              --> True:\n",
      "                Predict {450.0: 1}\n",
      "              --> False:\n",
      "                Predict {520.0: 1}\n"
     ]
    }
   ],
   "source": [
    "my_tree = build_tree(X_list2)\n",
    "print_tree(my_tree)"
   ]
  },
  {
   "cell_type": "code",
   "execution_count": 67,
   "metadata": {
    "colab": {
     "base_uri": "https://localhost:8080/",
     "height": 34
    },
    "colab_type": "code",
    "id": "EJ4U36-Bmngk",
    "outputId": "de471b3d-94a5-4532-d525-476e6cbf770c"
   },
   "outputs": [
    {
     "data": {
      "text/plain": [
       "1.0"
      ]
     },
     "execution_count": 67,
     "metadata": {
      "tags": []
     },
     "output_type": "execute_result"
    }
   ],
   "source": [
    "from sklearn.tree import DecisionTreeClassifier\n",
    "from sklearn.model_selection import cross_val_score\n",
    "clf = DecisionTreeClassifier(criterion='gini',splitter='best',random_state=0)\n",
    "clf.fit(X_train,t_train)\n",
    "pred=clf.predict(X_test)\n",
    "clf.score(X_test,pred)"
   ]
  }
 ],
 "metadata": {
  "colab": {
   "name": "practical3_TapashiGosswami_ElizaNyambu_KaniKadir.ipynb",
   "provenance": [],
   "toc_visible": true
  },
  "kernelspec": {
   "display_name": "Python 3",
   "language": "python",
   "name": "python3"
  },
  "language_info": {
   "codemirror_mode": {
    "name": "ipython",
    "version": 3
   },
   "file_extension": ".py",
   "mimetype": "text/x-python",
   "name": "python",
   "nbconvert_exporter": "python",
   "pygments_lexer": "ipython3",
   "version": "3.7.6"
  },
  "nteract": {
   "version": "0.23.3"
  }
 },
 "nbformat": 4,
 "nbformat_minor": 1
}
